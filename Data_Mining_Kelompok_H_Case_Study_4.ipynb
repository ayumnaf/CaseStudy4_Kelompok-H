{
  "nbformat": 4,
  "nbformat_minor": 0,
  "metadata": {
    "colab": {
      "provenance": [],
      "include_colab_link": true
    },
    "kernelspec": {
      "name": "python3",
      "display_name": "Python 3"
    },
    "language_info": {
      "name": "python"
    }
  },
  "cells": [
    {
      "cell_type": "markdown",
      "metadata": {
        "id": "view-in-github",
        "colab_type": "text"
      },
      "source": [
        "<a href=\"https://colab.research.google.com/github/ayumnaf/CaseStudy4_Kelompok-H/blob/main/Data_Mining_Kelompok_H_Case_Study_4.ipynb\" target=\"_parent\"><img src=\"https://colab.research.google.com/assets/colab-badge.svg\" alt=\"Open In Colab\"/></a>"
      ]
    },
    {
      "cell_type": "markdown",
      "source": [
        "# **Studi Kasus Korelasi dan Regresi (PT Ashrae Energy)**"
      ],
      "metadata": {
        "id": "m43aaw__fE_p"
      }
    },
    {
      "cell_type": "markdown",
      "source": [
        "Kelompok H (Kelas A): \n",
        "1. Anatasya Oktaviani Handriati (1906296186)\n",
        "2. Athaya Yumna Fathiyah (1906296192)\n",
        "2. Dea Kristina (1906354053)\n",
        "3. Eslim Suyangsu Rohmanullah (1906299471)\n",
        "4. I Ketut Doni Damara (1906299502)\n",
        "5. Salsabil Felia Armansyah (1806185815)\n",
        "6. Tesalonicca Talitha (1906377826)"
      ],
      "metadata": {
        "id": "SRlUGNULfRSL"
      }
    },
    {
      "cell_type": "markdown",
      "source": [
        "Data PT Ashrae Energy adalah perusahaan yang berfokus untuk meningkatkan kualitas hidup manusia, dengan berfokus pada perkembangan teknologi untuk membangun kehidupan manusia menjadi lebih baik. \n",
        "\n",
        "PT Ashrae Energy berfokus pada nilai perusahaan yaitu meningkatkan pengembangan energi yang efisien. Untuk meningkatkan pengembangan energi yang efisien, perlu diketahui terlebih dahulu variabel apa saja yang berpengaruh dalam konsumsi energi pada sampel observasi (*building*). Setelah diketahui variabel apa saja yang mempengaruhi konsumsi energi, harapan yang didapat adalah dapat dibuat sebuah kesimpulan yang dapat mengurangi pengunaan energi dan dapat menemukan formula yang sesuai dengan nilai perusahaan. "
      ],
      "metadata": {
        "id": "WmcIp3s-gxOC"
      }
    },
    {
      "cell_type": "markdown",
      "source": [
        "Data yang diberikan terdiri dari beberapa variabel, dengan penjelasan setiap variabel sebagai berikut: \n",
        "*   meter_reading = Variabel Target (*dependent*), Konsumsi energi yang dipakai pada suatu gedung \n",
        "*   primary_use = Peruntukan (Kegunaan) dari gedung/*building* (16 kategori)\n",
        "*   square_feet = Luas (kotor) tanah dari gedung/*building*\n",
        "*   year_built = Tahun peresmian gedung \n",
        "*   floor_count = Jumlah lantai yang terdapat pada gedung \n",
        "*   air_temperature = Suhu udara di sekitar gedung (satuan celcius)\n",
        "*   cloud_coverage = Proporsi dari langit yang tertutup oleh awan (satuan oktas)\n",
        "*   dew_temperature = Kelembapan udara di sekitar gedung (satuan celcius)\n",
        "*   precip_depth_1_hr = Curah hujan (presipitasi) selama satu jam (satuan milimeter)\n",
        "*   sea_level_pressure = Tekanan atmosfer pada saat ketinggian sama dengan permukaan laut \n",
        "*   wind_direction = Arah angin (0-360 satuan derajat)\n",
        "*   wind_speed = Kecepatan angin (m/s)\n",
        "\n",
        "\t\t\t\t"
      ],
      "metadata": {
        "id": "14OJYh5Jm1xx"
      }
    },
    {
      "cell_type": "markdown",
      "source": [
        "# Data yang Digunakan "
      ],
      "metadata": {
        "id": "npxHkKy1t_SK"
      }
    },
    {
      "cell_type": "code",
      "execution_count": null,
      "metadata": {
        "colab": {
          "base_uri": "https://localhost:8080/",
          "height": 270
        },
        "id": "VEf0lYE0Uw02",
        "outputId": "787d050c-70cd-491e-d650-7223ab01faaf"
      },
      "outputs": [
        {
          "output_type": "execute_result",
          "data": {
            "text/plain": [
              "   meter_reading primary_use  square_feet  year_built  floor_count  \\\n",
              "0     237.749127   Education         7432      2008.0          NaN   \n",
              "1     118.553743   Education         2720      2004.0          NaN   \n",
              "2      23.626500   Education         5376      1991.0          NaN   \n",
              "3     382.736016   Education        23685      2002.0          NaN   \n",
              "4    1579.174237   Education       116607      1975.0          NaN   \n",
              "\n",
              "   air_temperature  cloud_coverage  dew_temperature  precip_depth_1_hr  \\\n",
              "0        22.744816        2.998727        17.379328           1.240589   \n",
              "1        22.744816        2.998727        17.379328           1.240589   \n",
              "2        22.744816        2.998727        17.379328           1.240589   \n",
              "3        22.744816        2.998727        17.379328           1.240589   \n",
              "4        22.744816        2.998727        17.379328           1.240589   \n",
              "\n",
              "   sea_level_pressure  wind_direction  wind_speed  \n",
              "0         1017.949437      152.521015    3.391472  \n",
              "1         1017.949437      152.521015    3.391472  \n",
              "2         1017.949437      152.521015    3.391472  \n",
              "3         1017.949437      152.521015    3.391472  \n",
              "4         1017.949437      152.521015    3.391472  "
            ],
            "text/html": [
              "\n",
              "  <div id=\"df-e3571d05-e62b-43af-a89b-8e0e27ab3c33\">\n",
              "    <div class=\"colab-df-container\">\n",
              "      <div>\n",
              "<style scoped>\n",
              "    .dataframe tbody tr th:only-of-type {\n",
              "        vertical-align: middle;\n",
              "    }\n",
              "\n",
              "    .dataframe tbody tr th {\n",
              "        vertical-align: top;\n",
              "    }\n",
              "\n",
              "    .dataframe thead th {\n",
              "        text-align: right;\n",
              "    }\n",
              "</style>\n",
              "<table border=\"1\" class=\"dataframe\">\n",
              "  <thead>\n",
              "    <tr style=\"text-align: right;\">\n",
              "      <th></th>\n",
              "      <th>meter_reading</th>\n",
              "      <th>primary_use</th>\n",
              "      <th>square_feet</th>\n",
              "      <th>year_built</th>\n",
              "      <th>floor_count</th>\n",
              "      <th>air_temperature</th>\n",
              "      <th>cloud_coverage</th>\n",
              "      <th>dew_temperature</th>\n",
              "      <th>precip_depth_1_hr</th>\n",
              "      <th>sea_level_pressure</th>\n",
              "      <th>wind_direction</th>\n",
              "      <th>wind_speed</th>\n",
              "    </tr>\n",
              "  </thead>\n",
              "  <tbody>\n",
              "    <tr>\n",
              "      <th>0</th>\n",
              "      <td>237.749127</td>\n",
              "      <td>Education</td>\n",
              "      <td>7432</td>\n",
              "      <td>2008.0</td>\n",
              "      <td>NaN</td>\n",
              "      <td>22.744816</td>\n",
              "      <td>2.998727</td>\n",
              "      <td>17.379328</td>\n",
              "      <td>1.240589</td>\n",
              "      <td>1017.949437</td>\n",
              "      <td>152.521015</td>\n",
              "      <td>3.391472</td>\n",
              "    </tr>\n",
              "    <tr>\n",
              "      <th>1</th>\n",
              "      <td>118.553743</td>\n",
              "      <td>Education</td>\n",
              "      <td>2720</td>\n",
              "      <td>2004.0</td>\n",
              "      <td>NaN</td>\n",
              "      <td>22.744816</td>\n",
              "      <td>2.998727</td>\n",
              "      <td>17.379328</td>\n",
              "      <td>1.240589</td>\n",
              "      <td>1017.949437</td>\n",
              "      <td>152.521015</td>\n",
              "      <td>3.391472</td>\n",
              "    </tr>\n",
              "    <tr>\n",
              "      <th>2</th>\n",
              "      <td>23.626500</td>\n",
              "      <td>Education</td>\n",
              "      <td>5376</td>\n",
              "      <td>1991.0</td>\n",
              "      <td>NaN</td>\n",
              "      <td>22.744816</td>\n",
              "      <td>2.998727</td>\n",
              "      <td>17.379328</td>\n",
              "      <td>1.240589</td>\n",
              "      <td>1017.949437</td>\n",
              "      <td>152.521015</td>\n",
              "      <td>3.391472</td>\n",
              "    </tr>\n",
              "    <tr>\n",
              "      <th>3</th>\n",
              "      <td>382.736016</td>\n",
              "      <td>Education</td>\n",
              "      <td>23685</td>\n",
              "      <td>2002.0</td>\n",
              "      <td>NaN</td>\n",
              "      <td>22.744816</td>\n",
              "      <td>2.998727</td>\n",
              "      <td>17.379328</td>\n",
              "      <td>1.240589</td>\n",
              "      <td>1017.949437</td>\n",
              "      <td>152.521015</td>\n",
              "      <td>3.391472</td>\n",
              "    </tr>\n",
              "    <tr>\n",
              "      <th>4</th>\n",
              "      <td>1579.174237</td>\n",
              "      <td>Education</td>\n",
              "      <td>116607</td>\n",
              "      <td>1975.0</td>\n",
              "      <td>NaN</td>\n",
              "      <td>22.744816</td>\n",
              "      <td>2.998727</td>\n",
              "      <td>17.379328</td>\n",
              "      <td>1.240589</td>\n",
              "      <td>1017.949437</td>\n",
              "      <td>152.521015</td>\n",
              "      <td>3.391472</td>\n",
              "    </tr>\n",
              "  </tbody>\n",
              "</table>\n",
              "</div>\n",
              "      <button class=\"colab-df-convert\" onclick=\"convertToInteractive('df-e3571d05-e62b-43af-a89b-8e0e27ab3c33')\"\n",
              "              title=\"Convert this dataframe to an interactive table.\"\n",
              "              style=\"display:none;\">\n",
              "        \n",
              "  <svg xmlns=\"http://www.w3.org/2000/svg\" height=\"24px\"viewBox=\"0 0 24 24\"\n",
              "       width=\"24px\">\n",
              "    <path d=\"M0 0h24v24H0V0z\" fill=\"none\"/>\n",
              "    <path d=\"M18.56 5.44l.94 2.06.94-2.06 2.06-.94-2.06-.94-.94-2.06-.94 2.06-2.06.94zm-11 1L8.5 8.5l.94-2.06 2.06-.94-2.06-.94L8.5 2.5l-.94 2.06-2.06.94zm10 10l.94 2.06.94-2.06 2.06-.94-2.06-.94-.94-2.06-.94 2.06-2.06.94z\"/><path d=\"M17.41 7.96l-1.37-1.37c-.4-.4-.92-.59-1.43-.59-.52 0-1.04.2-1.43.59L10.3 9.45l-7.72 7.72c-.78.78-.78 2.05 0 2.83L4 21.41c.39.39.9.59 1.41.59.51 0 1.02-.2 1.41-.59l7.78-7.78 2.81-2.81c.8-.78.8-2.07 0-2.86zM5.41 20L4 18.59l7.72-7.72 1.47 1.35L5.41 20z\"/>\n",
              "  </svg>\n",
              "      </button>\n",
              "      \n",
              "  <style>\n",
              "    .colab-df-container {\n",
              "      display:flex;\n",
              "      flex-wrap:wrap;\n",
              "      gap: 12px;\n",
              "    }\n",
              "\n",
              "    .colab-df-convert {\n",
              "      background-color: #E8F0FE;\n",
              "      border: none;\n",
              "      border-radius: 50%;\n",
              "      cursor: pointer;\n",
              "      display: none;\n",
              "      fill: #1967D2;\n",
              "      height: 32px;\n",
              "      padding: 0 0 0 0;\n",
              "      width: 32px;\n",
              "    }\n",
              "\n",
              "    .colab-df-convert:hover {\n",
              "      background-color: #E2EBFA;\n",
              "      box-shadow: 0px 1px 2px rgba(60, 64, 67, 0.3), 0px 1px 3px 1px rgba(60, 64, 67, 0.15);\n",
              "      fill: #174EA6;\n",
              "    }\n",
              "\n",
              "    [theme=dark] .colab-df-convert {\n",
              "      background-color: #3B4455;\n",
              "      fill: #D2E3FC;\n",
              "    }\n",
              "\n",
              "    [theme=dark] .colab-df-convert:hover {\n",
              "      background-color: #434B5C;\n",
              "      box-shadow: 0px 1px 3px 1px rgba(0, 0, 0, 0.15);\n",
              "      filter: drop-shadow(0px 1px 2px rgba(0, 0, 0, 0.3));\n",
              "      fill: #FFFFFF;\n",
              "    }\n",
              "  </style>\n",
              "\n",
              "      <script>\n",
              "        const buttonEl =\n",
              "          document.querySelector('#df-e3571d05-e62b-43af-a89b-8e0e27ab3c33 button.colab-df-convert');\n",
              "        buttonEl.style.display =\n",
              "          google.colab.kernel.accessAllowed ? 'block' : 'none';\n",
              "\n",
              "        async function convertToInteractive(key) {\n",
              "          const element = document.querySelector('#df-e3571d05-e62b-43af-a89b-8e0e27ab3c33');\n",
              "          const dataTable =\n",
              "            await google.colab.kernel.invokeFunction('convertToInteractive',\n",
              "                                                     [key], {});\n",
              "          if (!dataTable) return;\n",
              "\n",
              "          const docLinkHtml = 'Like what you see? Visit the ' +\n",
              "            '<a target=\"_blank\" href=https://colab.research.google.com/notebooks/data_table.ipynb>data table notebook</a>'\n",
              "            + ' to learn more about interactive tables.';\n",
              "          element.innerHTML = '';\n",
              "          dataTable['output_type'] = 'display_data';\n",
              "          await google.colab.output.renderOutput(dataTable, element);\n",
              "          const docLink = document.createElement('div');\n",
              "          docLink.innerHTML = docLinkHtml;\n",
              "          element.appendChild(docLink);\n",
              "        }\n",
              "      </script>\n",
              "    </div>\n",
              "  </div>\n",
              "  "
            ]
          },
          "metadata": {},
          "execution_count": 67
        }
      ],
      "source": [
        "import pandas as pd\n",
        "df = pd.read_csv('https://raw.githubusercontent.com/taudataid/eLearning/master/data/Ashrae_Energy_Mean.csv')\n",
        "df.head()"
      ]
    },
    {
      "cell_type": "code",
      "source": [
        "df.info()"
      ],
      "metadata": {
        "colab": {
          "base_uri": "https://localhost:8080/"
        },
        "id": "GL0rK5sZX11h",
        "outputId": "ca84ba06-9816-46d9-c1b8-03b075c33f8e"
      },
      "execution_count": null,
      "outputs": [
        {
          "output_type": "stream",
          "name": "stdout",
          "text": [
            "<class 'pandas.core.frame.DataFrame'>\n",
            "RangeIndex: 1413 entries, 0 to 1412\n",
            "Data columns (total 12 columns):\n",
            " #   Column              Non-Null Count  Dtype  \n",
            "---  ------              --------------  -----  \n",
            " 0   meter_reading       1413 non-null   float64\n",
            " 1   primary_use         1413 non-null   object \n",
            " 2   square_feet         1413 non-null   int64  \n",
            " 3   year_built          663 non-null    float64\n",
            " 4   floor_count         352 non-null    float64\n",
            " 5   air_temperature     1413 non-null   float64\n",
            " 6   cloud_coverage      1396 non-null   float64\n",
            " 7   dew_temperature     1413 non-null   float64\n",
            " 8   precip_depth_1_hr   1237 non-null   float64\n",
            " 9   sea_level_pressure  1324 non-null   float64\n",
            " 10  wind_direction      1413 non-null   float64\n",
            " 11  wind_speed          1413 non-null   float64\n",
            "dtypes: float64(10), int64(1), object(1)\n",
            "memory usage: 132.6+ KB\n"
          ]
        }
      ]
    },
    {
      "cell_type": "markdown",
      "source": [
        "Pada info diatas, dapat terlihat jumlah *missing value* dari data dengan variabel **year_built** dan **floor_count** lebih dari 50%. Hal ini dapat disebabkan kesalahan pencatatan pada data, orang yang melakukan survei tidak melakukan survei secara menyeluruh pada gedung, atau kurangnya pengumpulan data terkait PBB-P2. Kedua variabel ini akan dihilangkan pada proses berikutnya."
      ],
      "metadata": {
        "id": "pAMotBc_uNW6"
      }
    },
    {
      "cell_type": "code",
      "source": [
        "df.drop(\"year_built\", axis=1, inplace=True)\n",
        "df.drop(\"floor_count\", axis=1, inplace=True)"
      ],
      "metadata": {
        "id": "GUlN8EWybnl7"
      },
      "execution_count": null,
      "outputs": []
    },
    {
      "cell_type": "code",
      "source": [
        "df.info()"
      ],
      "metadata": {
        "colab": {
          "base_uri": "https://localhost:8080/"
        },
        "id": "Hj9SSMMhb8d3",
        "outputId": "b66085c4-8d7a-4560-d9b1-6da74a983ac3"
      },
      "execution_count": null,
      "outputs": [
        {
          "output_type": "stream",
          "name": "stdout",
          "text": [
            "<class 'pandas.core.frame.DataFrame'>\n",
            "RangeIndex: 1413 entries, 0 to 1412\n",
            "Data columns (total 10 columns):\n",
            " #   Column              Non-Null Count  Dtype  \n",
            "---  ------              --------------  -----  \n",
            " 0   meter_reading       1413 non-null   float64\n",
            " 1   primary_use         1413 non-null   object \n",
            " 2   square_feet         1413 non-null   int64  \n",
            " 3   air_temperature     1413 non-null   float64\n",
            " 4   cloud_coverage      1396 non-null   float64\n",
            " 5   dew_temperature     1413 non-null   float64\n",
            " 6   precip_depth_1_hr   1237 non-null   float64\n",
            " 7   sea_level_pressure  1324 non-null   float64\n",
            " 8   wind_direction      1413 non-null   float64\n",
            " 9   wind_speed          1413 non-null   float64\n",
            "dtypes: float64(8), int64(1), object(1)\n",
            "memory usage: 110.5+ KB\n"
          ]
        }
      ]
    },
    {
      "cell_type": "code",
      "source": [
        "df.dropna(inplace=True)\n",
        "df.info()"
      ],
      "metadata": {
        "colab": {
          "base_uri": "https://localhost:8080/"
        },
        "id": "4RzglX73dagy",
        "outputId": "7103e6ed-f17d-4037-e4cd-baadc7047d18"
      },
      "execution_count": null,
      "outputs": [
        {
          "output_type": "stream",
          "name": "stdout",
          "text": [
            "<class 'pandas.core.frame.DataFrame'>\n",
            "Int64Index: 1220 entries, 0 to 1412\n",
            "Data columns (total 10 columns):\n",
            " #   Column              Non-Null Count  Dtype  \n",
            "---  ------              --------------  -----  \n",
            " 0   meter_reading       1220 non-null   float64\n",
            " 1   primary_use         1220 non-null   object \n",
            " 2   square_feet         1220 non-null   int64  \n",
            " 3   air_temperature     1220 non-null   float64\n",
            " 4   cloud_coverage      1220 non-null   float64\n",
            " 5   dew_temperature     1220 non-null   float64\n",
            " 6   precip_depth_1_hr   1220 non-null   float64\n",
            " 7   sea_level_pressure  1220 non-null   float64\n",
            " 8   wind_direction      1220 non-null   float64\n",
            " 9   wind_speed          1220 non-null   float64\n",
            "dtypes: float64(8), int64(1), object(1)\n",
            "memory usage: 104.8+ KB\n"
          ]
        }
      ]
    },
    {
      "cell_type": "markdown",
      "source": [
        "Terdapat juga *missing value* data pada beberapa variabel sisanya, oleh karena itu akan dihilangkan baris yang memiliki *missing value* dan tersisa 1220 data lengkap yang akan digunakan untuk proses selanjutnya"
      ],
      "metadata": {
        "id": "rC7Jrn4Vx34h"
      }
    },
    {
      "cell_type": "markdown",
      "source": [
        "# Visualisasi Data (EDA)"
      ],
      "metadata": {
        "id": "5jYr3UAWyPmA"
      }
    },
    {
      "cell_type": "markdown",
      "source": [
        "Pada visualisasi data, akan kelompokan data menjadi data kategorik dan data numerik. Data Kategorik terdiri dari **wind_direction** dan **primary_use**. Variabel **wind_direction** merupakan variabel kategorik dikarenakan arah mata angin utama terdiri dari 4, yaitu timur, barat, selatan dan utara. Data yang dihasilkan oleh **wind_direction** merupakan arah mata angin kearah sebuah nilai derajat.  "
      ],
      "metadata": {
        "id": "qCvqM7yO0ZlO"
      }
    },
    {
      "cell_type": "markdown",
      "source": [
        "**Data Kategorik**"
      ],
      "metadata": {
        "id": "tGc1Ed7T5lMZ"
      }
    },
    {
      "cell_type": "code",
      "source": [
        "df['primary_use'].value_counts()"
      ],
      "metadata": {
        "colab": {
          "base_uri": "https://localhost:8080/"
        },
        "id": "FOgpGye763SQ",
        "outputId": "cf3e061b-abbe-4f89-942f-08baf6eaba79"
      },
      "execution_count": null,
      "outputs": [
        {
          "output_type": "execute_result",
          "data": {
            "text/plain": [
              "Education                        429\n",
              "Office                           233\n",
              "Entertainment/public assembly    158\n",
              "Public services                  147\n",
              "Lodging/residential              134\n",
              "Other                             24\n",
              "Parking                           22\n",
              "Healthcare                        20\n",
              "Warehouse/storage                 12\n",
              "Services                           9\n",
              "Retail                             8\n",
              "Manufacturing/industrial           7\n",
              "Food sales and service             5\n",
              "Technology/science                 5\n",
              "Utility                            4\n",
              "Religious worship                  3\n",
              "Name: primary_use, dtype: int64"
            ]
          },
          "metadata": {},
          "execution_count": 72
        }
      ]
    },
    {
      "cell_type": "code",
      "source": [
        "#Import package yang dibutuhkan\n",
        "import pandas as pd\n",
        "import numpy as np\n",
        "import seaborn as sns\n",
        "import matplotlib.pyplot as plt"
      ],
      "metadata": {
        "id": "6bXlrkVP5njq"
      },
      "execution_count": null,
      "outputs": []
    },
    {
      "cell_type": "code",
      "source": [
        "# Menghitung rata-rata pemakaian energi per primary_use\n",
        "df_primary_use = df.groupby('primary_use').aggregate({'meter_reading':np.mean})\n",
        "df_primary_use.reset_index(inplace = True)\n",
        "sns.barplot(x = 'meter_reading', y = 'primary_use', data = df_primary_use)"
      ],
      "metadata": {
        "colab": {
          "base_uri": "https://localhost:8080/",
          "height": 298
        },
        "id": "cmKJMtxE7Af2",
        "outputId": "dc6e5142-5fc7-4c96-e396-1454f1320502"
      },
      "execution_count": null,
      "outputs": [
        {
          "output_type": "execute_result",
          "data": {
            "text/plain": [
              "<matplotlib.axes._subplots.AxesSubplot at 0x7f452c522710>"
            ]
          },
          "metadata": {},
          "execution_count": 74
        },
        {
          "output_type": "display_data",
          "data": {
            "text/plain": [
              "<Figure size 432x288 with 1 Axes>"
            ],
            "image/png": "[encoded data removed]"
          },
          "metadata": {
            "needs_background": "light"
          }
        }
      ]
    },
    {
      "cell_type": "markdown",
      "source": [
        "Pada *bar chart* tersebut, **religious worship** atau tempat ibadah merupakan gedung yang dengan penggunaan energi paling sedikit, karena kemungkinan tempat ibadah tidak beroperasi setiap hari, hanya di hari-hari tertentu saja (misalnya gereja, tempat ibadah paling umum di Amerika, beroperasi secara aktif di hari Sabtu dan Minggu).\n",
        "\n",
        "Penggunaan gedung yang paling banyak memakai energi adalah **healthcare**, **retail**, **education**, **utility**  (perusahaan air, gas, atau listrik), office. Gedung-gedung yang digunakan untuk kebutuhan tersebut merupakan gedung-gedung yang waktu aktifnya lama (misalnya rumah sakit beroperasi 24 jam, sekolah dan pabrik beroperasi dari pagi hingga sore, dan toko yang bisa beroperasi sampai malam) sehingga tidak mengherankan jika pemakaian energinya lebih banyak daripada gedung yang digunakan untuk kebutuhan lain.\n",
        "\n",
        "Selain itu, gedung-gedung dengan penggunaan tersebut juga umumnya menggunakan **steam**, yang dicurigai merupakan penyebab pemakaian energi terbesar."
      ],
      "metadata": {
        "id": "t3d8uE1Y7JUa"
      }
    },
    {
      "cell_type": "markdown",
      "source": [
        "Hal ini didapatkan, bahwa target pengurangan energi lebih baik dilakukan pada gedung-gedung dengan pemakaian energi yang cukup besar. Hal ini akan memberikan dampak yang lebih besar dibandingkan target diarahkan kepada gedung-gedung dengan pemakaian energi yang kecil. "
      ],
      "metadata": {
        "id": "om6JSBbG7gWW"
      }
    },
    {
      "cell_type": "markdown",
      "source": [
        "Plot Gambar dari variabel **Wind_speed** dan **Wind_Direction**"
      ],
      "metadata": {
        "id": "2FfduKkM_1Sj"
      }
    },
    {
      "cell_type": "markdown",
      "source": [
        "![messageImage_1668762155229.jpg](data:image/jpeg;base64,/9j/4AAQSkZJRgABAQEAYABgAAD/2wBDAAMCAgMCAgMDAwMEAwMEBQgFBQQEBQoHBwYIDAoMDAsKCwsNDhIQDQ4RDgsLEBYQERMUFRUVDA8XGBYUGBIUFRT/2wBDAQMEBAUEBQkFBQkUDQsNFBQUFBQUFBQUFBQUFBQUFBQUFBQUFBQUFBQUFBQUFBQUFBQUFBQUFBQUFBQUFBQUFBT/wAARCAGXAV4DASIAAhEBAxEB/8QAHwAAAQUBAQEBAQEAAAAAAAAAAAECAwQFBgcICQoL/8QAtRAAAgEDAwIEAwUFBAQAAAF9AQIDAAQRBRIhMUEGE1FhByJxFDKBkaEII0KxwRVS0fAkM2JyggkKFhcYGRolJicoKSo0NTY3ODk6Q0RFRkdISUpTVFVWV1hZWmNkZWZnaGlqc3R1dnd4eXqDhIWGh4iJipKTlJWWl5iZmqKjpKWmp6ipqrKztLW2t7i5usLDxMXGx8jJytLT1NXW19jZ2uHi4+Tl5ufo6erx8vP09fb3+Pn6/8QAHwEAAwEBAQEBAQEBAQAAAAAAAAECAwQFBgcICQoL/8QAtREAAgECBAQDBAcFBAQAAQJ3AAECAxEEBSExBhJBUQdhcRMiMoEIFEKRobHBCSMzUvAVYnLRChYkNOEl8RcYGRomJygpKjU2Nzg5OkNERUZHSElKU1RVVldYWVpjZGVmZ2hpanN0dXZ3eHl6goOEhYaHiImKkpOUlZaXmJmaoqOkpaanqKmqsrO0tba3uLm6wsPExcbHyMnK0tPU1dbX2Nna4uPk5ebn6Onq8vP09fb3+Pn6/9oADAMBAAIRAxEAPwD9U6KKKACiiigAooooArpqFrJfzWKXML3sMSTS2yyAyRxuXCOy9QrGOQAnglGx0NWK870P/k4Xxr/2K2g/+lesV6JQAUUUUAFFFFABRRRQAUUUUAFFFFABRRRQAUUUUAFFFFABRRRQAUUUUAFFFFABRRRQAUUUUAFFFFABRRRQAUUUUAFFFFABRRRQAUUUUAFFFFABRRRQB53of/JwvjX/ALFbQf8A0r1ivRK870P/AJOF8a/9itoP/pXrFeiUAFFFFABRRRQAUUUUAFFFFABRRRQAUUUUAFFFFABRRRQAUUUUAFFFFABRRRQAVgePdZu/D3g7VdQsYWnu4ISYwozsJIG/GDkKCWORjCnp1rforGvCVWlOEJcraaT7Nrf5bjTs7s+dNF+MfjmTSbqRLUaqqSKDeG0z5Wf4fkAHPvzz7itWb4uePFe9B8PLEY4VfabWT9znHzHnnOTx/ga92or4qnw/mMIKLzKo7eS8+7b69+npbodWF/gR85638avGtpfWIlt49LIRJDbNbcXAOOTuycHBHykdTzmvoyiivcyvLsTgJVZYjEyrc1rc32bX21a18ktjOc1K1lYKKKK98yCiiigAooooAKKKKACiiigCtqV8NM066vGhnuFt4nlMNtGZJZAoJ2oo5ZjjAA6mvnX9mT4jav4z+KnxCTW7jxIt5dafpep/2TrGl39nbaUztcq1vCtxEirtQQqWUDzmjeQA/Nt+k6zJvDGjXGpnUZdJsZdQLRObt7ZDKWjDiM78ZygkkCnPG9sYyaAPjo+P/EuieBNK1y18U6u+p+KfBWoax4he41CSdNJukvrCJpYI3ZktfIW7vU2oFX/RwSCYya+hPgs02m+I/iN4bi1HUNV0XRNYggsZtTvpb6eHzLC2mkgM8zNI4V5C43sSPN25wFA7TT/h74W0i61q5sfDWj2VzrZJ1Sa3sIo3v85z55Cgy53N97P3j61a8MeE9D8E6RHpXh3RtP0HS42ZkstMtUtoFLHLEIgCgk8njmgDzvwDrV5rfx/8fveaBqPh9ofDuhwpFqMls7TqLvV8Sp5E0gCHPAYq3Byo4z61Xneh/wDJwvjX/sVtB/8ASvWK9EoAKKKKACiiigAooooAKKKKACiiigAooooAKKKKACiiigAooooAKKKKACiiigAooooAKKKKACiiigAooooAKKKKACiiigAooooAKKKKACiiigAooooA870P/k4Xxr/2K2g/+lesV6JXneh/8nC+Nf8AsVtB/wDSvWK9EoAKKKKACiiigAooooAKKKKACiiigAooooAKKKKAPjz9on9l/wCIXxO+NZ17Sby0k0i7WOOC4uLxl/sxYok4ZSNwDSeYyiIN8zEttzmsnVP2LPiddya8w8e21yLyVXxPdXA+24Od0/ynaR2+/wA+lfbNFcrw1Ntt9T045hXhGMFay02Pii8/Yt+JtxLqpbx9bXAubCO2Ly3Nxm5xszDJ8pxGNpwfmzhflGTj0r9jj4G+KPg9pviO58TxWtnNrH2byrOKcSyw+UZwfMK5TkSKRtZuDzg8V9G0U44eEJKSIqY6tVpunK1nbp2Ciiiuk88KKKKACiiigAooooAKKKKACiiigAooooAKKKKACiiigAooooAQ8D1rivBfxRj8W+JNT8PXnh7WPC+uWFpBfvY6ubV2kt5XkRJFa2nmTG6GQbWYMMdMEGuzm8wRP5QUy7TsDnC57Z9q8g+HHw58SeGviJr/AIqm8O+FfDMeuJBHf6Z4fv5ZUupg8zyX8rm0i3znzFTbsywyWkOFUADtZ/aQtPC9z4uh17wT4o0Y+GvDV14punmOnzCW0hLDbH5N25EkmyTYJAgPlvkjFej+FddvfEOmvc3/AId1PwxOJDGLPVZLV5WUAHeDbzSptOSOWzwcgDBPEw/DTUGu/ijquq2Gj+IrzxSUsrbS76VxaPpkVv5cVpOxiYgM8l27YRwPtBGGxy/4IfDjUPh5a+JPtdjpGgWuqaiLu08O+H5nlsNMQQRRssTNFFy7xtIwWNFBc8E7mYAsaH/ycL41/wCxW0H/ANK9Yr0SvJfAPhiz8L/H/wAfxWc2ozLc+HdDuHOo6lc3zBjd6uCEaeRyiccIpCjnAGTXrVABRRRQAUUUUAFFFFABRRRQAUUUUAFFFFABRRRQAUUUUAFFFFABRRRQAUUUUAFFFFABRRRQAV8ieG/gt8XdO1XU57e4m0ia6jka4u21JSbpueCVZmLEsSGYDGScg19d0V34XGzwikoJPmtur7Hzmb5Fh85nSnXnOLp3tyu29r30b6dLdT5ht/hT8Z1fTCviWSIxwOuX1JyIclvlbruJyMEZxxyMCsTxD8Fvi7qnh+0tb27l1iASuxsH1IMYzxhmLsFb25OPbJr65ortjm9aL5lCP3HhVOCsDUg6cq1WzVvj9O6t07fpbH8HW9/Z+EdDg1UyNqcVjAl2ZZPMczCNQ+5sncd2cnJz61sUUV4spczcu595SpqlTjTTvZJa76BRRRUmgUUUUAFFFFABRRRQAUUUUAed6H/ycL41/wCxW0H/ANK9Yr0SvO9D/wCThfGv/YraD/6V6xXolABRRRQAUUUUAFFFFABRRRQAUUUUAFFFFABRRRQAUUUUAFFFFABRRRQAUV5Z+0d4U8VeMvh8uneEmm+3NdqbiGG6FuZ7cxyI8ZJZQykspKk4IHevFND+EPx1sdK0O3g1qfToLa4IS1bVAfsqAKFL7SQyYHCAtgZ4GTQB9fUV8iN8J/j79jkX/hI7o5vA+wawdx6/vA2eE/2c/wDAas+GPhB8Ybb4z6freq3s0ttHdoLvVRqQ8ua0WQSNEEDb9jYwI9gXJGcDkAH1lRRRQAUUUUAFFFFABRRRQAUUUUAFFFFABRRRQAUUyeVIIZJJWCxIpZmPQADmvmr4B3vg7RfjR4yXwrq/hGfw1qFjYpZHwZBFZ6bHN510Ut5gkjpNfFMEupUsiDMSBQWAPpiivh+wg07wf4U+JHhnwTdeFPF0lzoGo6nqHibwTp4h1K0H2xTJaXcsUshlmeKecxEFHzbP8mcGvdP2cf8AhHv7W+IX/CCf2f8A8K9/tO2/sr+xtn9n+d9jh+0/ZtnybN2zds+XzPNz82+gDqND/wCThfGv/YraD/6V6xXoleS+AbnXbn4/+Pzr2nadpsy+HdDW3TTtQkvFkh+16vtdy8EWxyc5QBgMD5jnj1qgAooooAKKKKACiiigAooooAKKKKACiiigAooooAKKKKACiiigAooooAKKKKACiiigAooooAKKKKACiiigAooooAKKKKACiiigAooooAKKKKACiiigDzvQ/wDk4Xxr/wBitoP/AKV6xXoled6H/wAnC+Nf+xW0H/0r1ivRKACiiigAooooAKK4P46f8JN/wqbxJ/wh/wBp/wCEg8hfI+x48/b5i+b5fff5fmY2/NnG35sV8q+GdJ/aTl8IzSWk2vLDLdIypqdyovMjcDjzzvVMgZBwDkEAjJrzMTjXh6ipqnKWl9Fc8bF5i8LVVJUZTur3ir/1/wAMfc1FfGuoaP8AtOmTW83VwwOzP2e4twH5GPI5BXjrjHGc5NYPinT/ANpK08V6RJLL4glu3ECwHTJg1mGUL/rljPlD5j8xlG04bJKiuWWaOKv7Cf3HHPOnBX+rVP8AwE+6KKKK90+lCiiigAooooAKKKKACiiigAooooAKKKKACiiigAooooAKKKKACiiigAooooAKKKKACiiigArxm8/a6+HGn/b/ALU3i22/s/Z9s87wNrifZt4BTzM2fybgQRnGc8V7NXyJ8Y9a0xfiH8U9Nlm8QWPhpNEvNU8RadZarbRW+uTWtnpoktykltJLEJba9tYg8M8e9o2Ur/GQD67opD04615j8LfjFc+PfGHijwzfWGjRahoCQm6uPDutHVbWKV3lRraWQwQmK4Qw5aIqSFdTnnFAHp9FeJeLP2gNd+Htj42bxJ4QsYL3QvCd/wCLbW307W2uVuILYHMM7tbp9ndztAIEqnEmCdhB9A+GPjSbx94YGrSyeHZleZ445fDGtnVrR1XHPn+TF82dwKhTjA55wADI0P8A5OF8a/8AYraD/wClesV6JXneh/8AJwvjX/sVtB/9K9Yr0SgAooooAKKKKACiiigAooooAKKKKACiiigAooooAKKKKACiiigAooooAKKKKACiiigAooooAKKKKACiiigAooooAKKKKACiiigAr5E+Nr6oPjzq11ceBYdc1WDRLqPwdd/8IcNQ236rYPZSNfeS/lZnlv1ZWkRUSBXIXcHb67r42/aH0y/t/FvjrUpR4OeW8vbbTdB8S6x4xurC98P3H2CFzHFDHayLEVO+64cbhJuk+TgAH2NMrvE6xuI5CpCuVyFPY4715z4W+HHijTvHF14s1zxPpWp6rcWlvprx6doklnAbWN5ZOVa6lYyl5eHLFVUEBMsTXa+GLrWL3Q7abX9OtNJ1dt3n2djeteQx4YhdsrRRFsrtJ+QYJI5xk6lAHkPw/wDhN418H3Pi2/1DxjoOu6zr5eU6nL4bmjlVw37iNx9uYNbxIWRYUEf3i27czs3TfDT4e3vgy78T6pq+rW2r634iv0v7yWwsDZWqlIIoEEcJklYfJCpZmkYknqAFUdxRQB5L4B8I6F4Q+P8A4/h0HRdO0SG68O6HdXEenWsdus0zXerhpHCAbnIAyx5OBXrVed6H/wAnC+Nf+xW0H/0r1ivRKACiiigAooooAKKKKACiiigAooooAKKKKACiiigAooooAKKKKACiiigAooooAKKKKACiiigAooooAKKKKACiiigAooooAKKKKACvM/Ev7PnhXxXrnibVL5tRMviCxuLG7gS6IhXz7eK2mmjQghZWggij3dlXgAsxPplfGXxV8E6l4K1vxXo0Gu+OVudSWJ/DGpv8Snt7KxXyEUm7S4vknIFwJWYxxyZjKBMODQB9R+DvFlz4i8ReOtPniiji0HWY9Nt2jB3SRtp9ndFnyfvb7lxxgYVeM5J6qmJDHE0jIio0jbnKjBY4AyfU4AH0Ap9ABRRRQB53of8AycL41/7FbQf/AEr1ivRK870P/k4Xxr/2K2g/+lesV6JQAUUUUAFFFFABRRRQAUUUUAFFFFABXyTr/wC0b8R9I+M2s6HZ6ZHqVtb3ktrb6Mtm2941Y7JAw+fcyYbOSuDkDFfW1FdmGr06Lk6lNTuuvQ2pzjC/NG58jW37TnxTktNPk/4Q+GUzXjQ71sZwJsbf3Sjdwwyeee3HBzT1r9qH4ow6DqcsnhyHSlS58n+0DYygWpIPyHeSpfOOWH1ByK+xaK7ljsOnf6uvvNvbU/8An2jzb9n3x7rXxH+G9rq+u2iwXgle3W4Rdq3aoAPOC9Bk7lIHGUJGAcD0miivKqzjUm5RjZPp2OWTUpNpWCvHPj58SPEXgifSrbR9llDcq0hvSqSNIynBjCsDgAMpJxzuGCMHPsdFFKahJSkro6sHXp4esqtSmppdH/T/ACZ88wfHfx1NJCV8MxSK9oZlC20vzjaSJQc/d6HH680W/wAdfHcjacB4Zjm85GbCWsubjBPK88Yxz17+tfQ1FdHt6X/PtHrPMsH/ANAkfvZ4T8G/iz4q8X+N7nTNTjiurR43mcKiwmyCnt3YFmVSDk8g54OfdqKKwqzjUleMbHmY3EU8TV9pSpqCtsvz6BRRRWJwBRRRQAUUUUAFFFFABRRRQAUUUUAFFFFABXx54u1y0j+MPja50g6bqVxqT2N7c2WqfCbWtavLImwt1RHnhdQoKKjeWVBRnYEbt1fYdfIf7QXwb8UfEb4vz3tv4Pfx1pNs9v5FpfR22iW9owjTc0erQyi9bJySFhdQcrkAYoA+uZ5UghkklYLEilmY9AAOa+avgHe+DtF+NHjJfCur+EZ/DWoWNilkfBkEVnpsc3nXRS3mCSOk18UwS6lSyIMxIFBb6YooA+B7Aw/8IdJ/wjmf+En/AOEL1H/hZf8AZmftn277dY+Z9q2fP9o8v+1fLz82zdt42V9H/s3/ANg/bPiF/wAIT9g/4V9/bUP9jf2Ps/s/d9htvtP2XZ8nl+buzs+XzPN/i3V7TRQB5L4Buddufj/4/Ovadp2mzL4d0NbdNO1CS8WSH7Xq+13LwRbHJzlAGAwPmOePWq870P8A5OF8a/8AYraD/wClesV6JQAUUUUAFFFFABRRRQAUUUUAFFc5onxJ8I+JVum0jxTouqi1TzLg2WoQzeSn959rHaODya1E1/S5JIkTUrRnliNxGonUl4x1cDPK+/SpUovVM3nQq03yzg0/NMv0Vz+rfELwroNhbX2p+JdH06yuSVgubu/iijlI6hWZgG6Hp6VuxSpPEkkbrJG4DK6HIYHoQe4ppp6JkSpTglKUWk/Ltv8AcPooopmYUUUUAFFFFABRRRQAUUUUAFFFFABRRRQAUUUUAFFFFABRRRQAUUUUAFFFFABRRRQAUUUUAFFFFAHneh/8nC+Nf+xW0H/0r1ivRK870P8A5OF8a/8AYraD/wClesV6JQAUUUUAFFFFABRRRQAVm+JNDi8T+HdU0eeee1h1C1ltHntXCTRrIhQsjEHDAHIODg44rSopNXVmVGThJSjuj4Q0D/gnR4h83Vk1bxhYWkJQpZPYRSSmb5sjzlYJtGAOFLcnr8vO1b/8E6Zo5rYt4+cItnJFIVsTkSMGACfvP9X83I6n5um7j7VorzFlmFX2fxZ91PjjPZtv2yX/AG7HtbsfB/iH/gnP4hTSbD+xvGGn31+pKzw6hFJBCikkgxsokPpkFR1Jz2r7U8DeGv8AhC/BPh/w/wDaftn9k6fb2H2ny9nm+VGqb9uTtztzjJxnqa3KK6KGEo4eTlTVrnjZpxDmOc04UsbNSUW2tEtX6JBRRRXYfOBRRRQAUUUUAFFFFABRRRQAUUUUAFFFFABRRRQAUUUUAFFFFABRRRQAUUUUAFFFFADJd/lv5e3zMHbu6Z7ZrzT4b+M/FF/8QfFHhTxFd6LrTaPZ2Vy+p6FYzWkUE85l3WkiSTTZkVI4pMhgdsy5RcqW9LlQyROiu0TMpAdMZU+oyCM/UGvOPhb8FX+FOmHT7Lxx4k1i1e5N3KNVTT2kmlZ2eV5JI7RHdpC3zMzFuBtK0AcZ4j+JPxO8OeJPiLp1pL4e8Vnw54On1y3ttP0G6hnN+5l+w2p/0yXztwtpt6qqMcx4xuFd/wDB3xtceNNBvnv9bstY1Szu/IuY7bQbrRZLQmNHWKW1upZJVbDbgx2hldcDudLT/h1a6RL4xurDVNRtNU8T3X2y41JTE81s4t44IxCGjKBUSFSqurDcWJ3bjSeA/h1B4Gm1i8fV9S8Q6xrE6T32qasYfOl2RrHGgWGOONVVVwAqDkknJJNAHJeAfF2heL/j/wCP5tB1rTtbhtfDuh2txJp11HcLDMt3q5aNyhO1wCMqeRkV61Xneh/8nC+Nf+xW0H/0r1ivRKACiiigAooooAKKKKACiiigAooooAKKKKACiiigAooooAKKKKACiiigAooooAKKKKACiiigAooooAKKKKACiiigAooooAKKKKACiiigAooooAKKKKAPO9D/AOThfGv/AGK2g/8ApXrFeiV53of/ACcL41/7FbQf/SvWK9EoAKKKKACiiigAooooAKKKKACiiigAooooAKKKKACiiigAooooAKKKKACiiigAooooAKKKKACiiigAooooAKKKKACiiigAooooAKKKKAGu6xqWYhVAySTgAVheEvH/AIX8fQXM3hjxJpHiOG2cRzyaTfRXSxORkKxjY7T7Gtu4ZEgkaRS8YUllVC5IxyNoyT9BXhPwS8Ux+MPGviDxtqWheIfDl7qUNpo1ho1/4Zv7M2ljDJO0LTPJAqNK7TSO20lIlMa5zuZwD1PQvih4N8UX+pWOjeLdC1a90wOb62sdShmktNjFX81VYlNrAg7sYIINX/C3jDQfHOlDVPDet6d4g00u0YvNLu47mEuPvLvQkZHcZr5h1Tw34jufCfj/AMD+DD4q1/wte+H9ZuJrXxJoh04wahLcrIlnaSvbwGdJ1mvFOTKF2x/vAGw3r3wbMms+NfiD4nttK1LRtB1aexS0h1XT5tPmnkhtVSWbyJlR1HMcQLKM+RxldpIBqaH/AMnC+Nf+xW0H/wBK9Yr0SvJfANtrtt8f/H417UdO1KZvDuhtbvp2nyWaxw/a9X2o4eeXe4OcuCoOR8oxz61QAUUUUAFFFFABRRRQAUUUUAFFFFABRRRQAUUUUAFFFFABRRRQAUUUUAFFFFABRRRQAUUUUAFFFFABRRRQAUUUUAFFFFABRRRQAUUUUAFFFFABRRRQB53of/JwvjX/ALFbQf8A0r1ivRK870P/AJOF8a/9itoP/pXrFeiUAFFFFABRRRQAUUUUAFFFFABRRRQAUUUUAFFFFABRRRQAUUUUAFFFFABRRRQAUUUUAFFFFABRRRQAUUUUAFFFFABRRRQAUUUUAFFFFABRTJd/lv5e3zMHbu6Z7ZrzT4b+M/FF/wDEHxR4U8RXei602j2dlcvqehWM1pFBPOZd1pIkk02ZFSOKTIYHbMuUXKlgD06ivCPEvxR+IXhLUvG+kJHoXi3V9N8I33iGyt9H0u5ja0ukOLO0uE8+Qzm4PmbSnlMfs8mF+YY7n4O+NrjxpoN89/rdlrGqWd35FzHbaDdaLJaExo6xS2t1LJKrYbcGO0MrrgdyAQ6H/wAnC+Nf+xW0H/0r1ivRK8l8A+LtC8X/AB/8fzaDrWna3Da+HdDtbiTTrqO4WGZbvVy0blCdrgEZU8jIr1qgAoornvHHjvSfh9o41LV5JFiZ/KjjhTe8j4J2gdOgPJIHv0rGtWp4enKrWkoxWrb2RtRo1MRUVKlFyk9ktzoaK4C2+O/ga6Fpt12NGuWKqskUilD/ALfy/L9TxQvx58CtFHJ/b0YWSUxAGGQEEY5I25C8j5jx+Rrzf7Yy3f6zD/wOP+fmj0P7IzG9vq8//AZf5eR39FcHo/xu8I694nj0Ky1Ey3MuVimMTLDI+T8ise/GRxg5ABJOK7yu3DYvD4yLnhqimk7Npp69tDkxGExGEko4im4Nq6umtPmFFFFdZyBRRRQAUUUUAFFFFABRRRQAUUUUAFFFFABRRRQAUUUUAFFFFABRRRQAUUUUAFFFFABRRRQAUUUUAFFFFADJUMkTortEzKQHTGVPqMgjP1Brzj4W/BV/hTph0+y8ceJNYtXuTdyjVU09pJpWdnleSSO0R3aQt8zMxbgbStelUUAeYeCPgdJ4DPiVrLx94ou5NekuLmeW9TTnljuZSMXCyCzDM0aqsaLIXRUCrsIVQOi8B/DqDwNNrF4+r6l4h1jWJ0nvtU1Yw+dLsjWONAsMccaqqrgBUHJJOSSa62igDzvQ/wDk4Xxr/wBitoP/AKV6xXolfGP7Vmm/ETUPjuP+FdnxAk/9g6ZBqDaHdSRZ8y61D7P5gRh8oKT/ADsNq55YbhVSXwt+1UbqUjUbgZ05VJW9tgh+UZRRnibOcv65O7BFe5SyyNWlGq68I36Nng1s0lSrSpLDzlbqldM+2a5b4g/DnSviTpcFjqjTxLBL50c1qVWRTggjLK3BzyMdh6V8oWnhb9qgT6WRqNwpWwlXMt7blUPz4WUZO6XlcMQcZXJGGx0/7Ien/F6z8f8AiBfHbeJG0SGyaEf27PJIhuhKm0xGRjuG0S/NHlTxk8rXPjMkoVsLUjWqwnG2sb3vqbYPPK1LFU3SozhK+krWtoet2v7NHgq2FpuhvbhoGLM0txzPz0fAAwP9nFC/s0eChFGhhvWKSmQubk5YcfIePu8dufevVqK+L/1eylK31aH/AICv66H239v5q3f6zP72eY6B+zz4V8OeKLfW7U3ry28pmitZpEeFGwdvGzd8pOR83UCvTqKK9HCYDC4CLhhaagm7u3c8/F47E46Sniajm0rK/YKKKK7zhCiiigAooooAKKKKACiiigAooooAKKKKACiiigAooooAKKKKACiiigAooooAKKKKACiiigAooooAKKKKACiiigAooooA870P/k4Xxr/2K2g/+lesV6JXBeI/hXcax41uvE+l+NfEPha+u9PttNuIdKjsJIpY4JLiSNiLm1mYMDdSg7SARjjjNQf8Kv8AEv8A0V7xn/4CaJ/8rqAPRKK8c+H/AMP/AB9q/gPw3feI/in4w0/xDdabbT6lZx2OiqsFy0SmWMA6eSArlhgk9Oprf/4Vf4l/6K94z/8AATRP/ldQB6JRXnf/AAq/xL/0V7xn/wCAmif/ACurA8N/D/x9e6z4qh1T4p+MLaxtNSSDSpVsdFBuLY2dtI0hP9nnJE8lwmRjhAMcZIB7HRXnf/Cr/Ev/AEV7xn/4CaJ/8rqP+FX+Jf8Aor3jP/wE0T/5XUAeiUV45ZfD/wAfS+PNYsZ/in4wTw9BptlPZ3gsdF3S3Ly3YuIyf7PwQqR2xAwMeYeTkY3/APhV/iX/AKK94z/8BNE/+V1AHolFed/8Kv8AEv8A0V7xn/4CaJ/8rqwL34f+PovHmj2MHxT8YP4en02+nvLw2Oi7orlJbQW8YP8AZ+AGSS5JGDnyxyMHIB7HRXnf/Cr/ABL/ANFe8Z/+Amif/K6j/hV/iX/or3jP/wABNE/+V1AHolFeOeNvh/4+0zRrebQvin4wvr5tS0+CSJ7HRWC20l5DHcyYGnjlIGlcHsVBweh3/wDhV/iX/or3jP8A8BNE/wDldQB6JRXnf/Cr/Ev/AEV7xn/4CaJ/8rqwPiB8P/H2keA/El94c+KfjDUPENrptzPptnJY6Kyz3KxMYoyBp4JDOFGAR16igD2OivO/+FX+Jf8Aor3jP/wE0T/5XUf8Kv8AEv8A0V7xn/4CaJ/8rqAPRKK87/4Vf4l/6K94z/8AATRP/ldWB4J+H/j7U9GuJtd+KfjCxvl1LUII4ksdFUNbR3k0dtJg6eeXgWJye5YnA6AA9jorzv8A4Vf4l/6K94z/APATRP8A5XUf8Kv8S/8ARXvGf/gJon/yuoA9Eorxzw38P/H17rPiqHVPin4wtrG01JINKlWx0UG4tjZ20jSE/wBnnJE8lwmRjhAMcZO//wAKv8S/9Fe8Z/8AgJon/wArqAPRKK87/wCFX+Jf+iveM/8AwE0T/wCV1YFl8P8Ax9L481ixn+KfjBPD0Gm2U9neCx0XdLcvLdi4jJ/s/BCpHbEDAx5h5ORgA9jorzv/AIVf4l/6K94z/wDATRP/AJXUf8Kv8S/9Fe8Z/wDgJon/AMrqAPRKK8c8SfD/AMfWWs+FYdL+KfjC5sbvUng1WVrHRSbe2FncyLID/Z4wTPHbpk54cjHORv8A/Cr/ABL/ANFe8Z/+Amif/K6gD0Sis/QNMudG0i3s7vVrzXbiIHfqGoJCs8uWJG4QxxxjAIA2oOAM5OSdCgAooooAKKKKACiiigAooooAKKKKACiiigAooooAKKjkuIopY4nlRZZM7ELAM2OTgd8V89eMvjhqfjo694e8K2ev6Vd6F4gjsdWl0tbeW/n0ze8M13ZKVkDbZ12uu3zFRWIAYqKAPXdf+LHg7wt4msfDureJNOsdcvTGsNhLMPNJkkWOLcP4d7uqLuxuY4XJrzz4ZftFWviXWr+18QXUdhJcarLpthZwaTdqlm6StGtvc3bAxNcyYD7BswrL97IZuG0u81D4k+BvENj4w0LxRNrWja5BLFB4d8uz1HU0ZVm057wKUEckQZGdZCsasiFs8qO48E/AW3srTw5rXivVLi28QzSWOp65p1jLHBYajrUUQQXToAT5mQuRG6o5jQlW2igD3CuY8dfEvw18NbS0uPEmqx6bHdymKAFHkeQhS7EKgLbVVSzNjaoGSQK47xL8UX1X4n3/AMLrOa98MalNpsV1Z+Jo4Y50aUl2lt41dSgmSJFcbwRh87SFOfNPDngvX7bWPEdpo2pXviPxP4C8UNPaR65qjTvqOm31rBJPaySv90tukKbl2q8Ue3CcAA7pviJ41j+K/g03MmhL4B8RzXllYx6YWu7iYrA00FzJOSqqrrFJiONG27huc/w+014t8N/hMz+CtNHiixl8Px6T4muPEelaYLmN20+PdKYopHXcg+WWQssbEAOVDYyK1/iH8erPwNeOlnol54mtLTR5PEGo3emTwFbawTcDIgZwZnJRsIg5CtznAIB6D4h8Qad4U0O/1nV7yLT9LsYWuLm6mOEjRRkk/wCHU14p4v8A2jWl1vwx/wAIwZJ/DN1cSW+pXcGi3l7qUd4ixyx2H2NUV4HliLt5sw2qF+7zuHM+NdVi0yzv7Pxp8RZtQ+GnxLsJBpfie7aC2TRb4q0lvFEVVAEeEI0YfcWlt2B3GXFdV4D8FePdV8c6pr2uW0HhDUbrw3b6Rf6zo91FOuqXkb7o7yGB42CBFeZR5o3fvQpDqgNAHrngvxrpHxB8PQa1olw9xYyySwnzYXhkjljkaOWOSNwGR0dGVlYAgqa0dW1ex0HTLrUtTvbfTtOtY2muLu7lWKKFAMlndiAoA6knFeL6345svgf8ML5fh9oV58Q20+O/v728/tNWhWaNjJdSXl2dx80szHy40d85ARVHHAfGv43S+DPi3o2vW11qXiDQW8O2lzL4T0+FrqO9tJ5bgz3W1SY1MSpAxlkKLggBm3EAA7Xxn+07ZXvhUav4KnY6Xb6wdL1TXb7Qr67jsVFuswdbWILLL5nmRJG2VQmQMCwxu9A+C3xKb4m+CLW8vofsHiWzWK113SzbzQNY3xhjkeIpMquBiRWXOQVYYLda5mL4XHxV42+IZ1CGb/hE/FmnaTeRXtpcoki3kQkVjFJG28FFjtXBOVzjBI3KJ5pNJ+AnhbUL7TV1Txtr+savBazy3N9G91eX0gSKNZZGKxwoiBBgKAqrkKSeQD1p3WNSzEKqjJJOABXl8/xpsPHFnqFh8Nda0TVtft/n83UfP+yLAG2yXEexc3SqQQBEwVm43rya8p8R/GrWfEPxZ8Mf2dpV5HIFutPg0TVNXk020tdWgMpuo7xoUkWZntxGYAxMbBi+OjDa8M+JPEvjr4keBvFXhDwUieGZPCfkLf3V5HBZWYmulMkY2AvMyx2ibFVAuJASyZNAHoHwP+K8/wAQ9O1Cw1qM2XijTZXeezk065095LN55ktLryLgb0EqQk4ywDBhnIwPTq47wv4Cs/Cmv65r91quoa7r2ooiz3l+6lorZGcxQRRRqqJGpZzwu5iSWLHp4d4x/aAh8ffD2wv11m38N2f2+31LVdO0PXUbWYdAZM/aJNi7oGBaOWSNNxWIEbwWIoA991Hx/plj4ug8LxpeXuty2xvGhtbSSSOCLD7WmlC7It7IyqGO5iDgEAkeM/Bj9ovXPEnjWfR/Gdutgl55VtamLQ72zjstU/etNprzS7kmdYlhfzQVDFnAXjC8JN4E8TeOfF/iGaG/uvHceiAaLfW9jrh0uXUFMQn067+0RYAkhS8nVx904jkC7wRXrXhT4L6L4VvPCOpeM/Elxe+KswSvay6qy2N7rCwCOS7jgO3fKRvOMbeS2xTggA9srjfGHxi8G+AtYtdK13X7aw1G4QSi3w0jRxltokl2A+Uhb5Q77VJ4BJrx74gftFahr3gjWINI0HXNClv1uf7G1GKWIzajFazot5HDsLtBcGITNEGUkhdwwQQOc1Hx1qXj/wCDHiPwrovg/wDtHWNS8M6fPpq6XrP9pXV1ptxN5UYmnuQjCaNXmYl2OCrsG7kA9Euvj9ceFvjnqHh3xRJp2n+Eb24t9J0G9Css02oGCGaSF8k7y4uE2bFxhTyTnHuVeQ2vwr8IzQ6h468feEfDmgeJJ2ivL3URdmRrSOAqYd12wTaVWNA5TarbcEuoyV8cfH+18J6zpdrNpdxb+HtVuLewtvFUl5aR28k1woaNreOSQNOiKS7sBgBSRvAbaAd7408e6B8PNKTUfEOpR6dbSSrBCpVnlnlb7scUagvI55+VATgE4wDXlXxT/aFk8Ljwb4i8Oz6bqfgWeO71DXr+QMGisonhh3xuSqrskuFLhgWwvA607wd4pn+GPjeLwN8SPFCa3fXki3vhjxBrQggmv5XAjnto1RUXzUaQlUQZ8uXHRCa5v4Q/De38Q+FtAu/i14A0XSWs727l0mHxDcRXF0bq9unmdfIGYUB3IqJudsp91CBQB9EaBr1h4o0Sx1fSrlL3Tb6FLi2uY87ZY2GVYZ7EEEVg+Pfiz4Q+GC2h8U6/aaMbrcYlnYliijLyEAErGoxukOFXIyRkV5X4c+Kem+J5LT4deD5rvwRYkXNtpGuNLaXclxDZXP2a7WGN5ndGEg8tXmRjkMdny1wL/DS+8WeENQsJW8S+KtT8JeJNQ0HVo4dakh1HVdElk+1GCR3ePeXjktujqGCkKVU7QAe02fxF8Z6d8TND0bxHoWkWOi+IZr2305bK9ea8g+zx+Ysk2VCssiq5wg/dkxgs27I9WrwHw38CNd8YaZ4OvfGXiLxBpM2iDUrddMtr2Nbq4s554zBFdXcRL+YsMEauYZBuJb5iOvd+LviqmmeFb698D6fB8Qb7TrgWtzp+l6nCPsuM+Y0rkkrsCt8oBYnAx1IAPQ684fxzqnxH0zXrXwNIdIksrtrFPEGq2HnW0zRu0dybaISK0rRMpTcwEZfpvAIrzn4y6jp1/wCA7b4r6b4w1KweaXS49I8/VWs9PsDLdRxS+ZErpG5YSOJDNu2hCAVAIrH8O/A59e8Y2/jHwfe2GoaFqOvQ69Y+JLmaaG/062WVnuLS3Qw/voLgyTj5nVdszN8xCGgD034E/EjWvEtreeH/ABlaXmneMLDfdmG/tYreW40+SaQWlwyRSSIrMiBXAYYdHG1eg9YrmPCvw80rwlq2rarbve3uraowN1f6jdyXEpQMzJEm4kRxpvbaiBV5JwSST09ABRRRQAUUUUAFFFFABRRXD+O/ihH4Vh0WPSNMk8U6lq+onTbW1srqGNBIiPJKZJXYKm1IpOOSWAXGTkAHayypBE8kjrHGgLM7HAUDqSewrwvx5+03pT+FG1DwTqMdxFDdRLqOr3Wj3tzDp9k6TMLwQRqr3EbGEojIdhLA7sYDed6p8bb3xL8Q7nU49LmvdIuPDc11Bo+t6xNplrbwwApqltLCkbpLfIzYw5IVEcqVAJaP4efA3VPEFxaW6aZr1n4U1VWa51q68UTTR3ehvZt9gskgeR3SeBp1+YBQrQNIJGMm2gDI8W+LfGfxV1Lwb4p8PeDr6++JvhXTJ47mzWJrC30y8ka0meO6FziVI5rcAqqI7MTtBcKxHrPgv9nJb3xV4Z+I2r69rI8Q2t1canDpU6olpYLdh3ubVIduTmSXdvkLuCg27RxWnca54R+AGg+MdUh1m68XeJI7iz/tY6hqsT3YkncQWazsxWO2hBYAMVVVXe53HJPlmvftBXHxI1fwLqOmR2b2q6le6RPb23iZl0q21aN0a3lu57cbpLdooboxBl2u4QEAlSAD2vw14i8A+BdZ8X+DfC8cFn4g0q2/trU7byZC0zyqziSSZhmZyFGTuZgpQcDAr51PiO8+NllBJ4p1DwjJ448KaDO2tWWrxH7HZ293HBNDqkBQS+TPHgKELZYBxlchq6bSvhv4u+PWsp8RtO1vSfDtq+qbZLGzDXEt5HCy2V7bG+DFWtJFtmkj8uMM3mDJjOa+g/B3ws8DfDq+tk8NaBpeg3Udo8EcdjGImaEurOSo+9l9pLnJJxk80AeEeDf2ZrT4weB9A1zxbr/iKe9hNrJZpdRLbpI9lcSraX0sDxh3kkttoKTZXErHywxJr17xV8WPAvw48bw6fNE8viXWLiytL2TS9Pad4EkfyraS9lRcQxbm2qZGH3ztB5rzrxt8X9e+IOr+JvA+j6Xf6Ve6XrFuAdN1RILvW9KjmSO+NrKQvkzRu6hkLKxVl2uC4IytJtfG3xL+G3xP8E3tu7eItHvbfU/D51K9T7ZCGdbqzt7yWNmC3EZhALhnGx487iGBALvin4o2Oq/GnVPh/wDEX+y73wZrWpxaZ4cs3hZ2bUIIbaZobmJGbz4pDchgXCovkMHHKk4vgH4U2fiG98S6BY2+heNbLRQ9zp2t6noclnZW2qy3Ur3FoqxFVnt02xkxoxC4CsWJJHvGq/Dn4e2+uSa1quh6Hb65q17azPqFzHGlzc3NuVktwJDhmZDErKoPG0nHWuH1j4xTeNb668ORR6x4K0q91afQ7TxbbSW8jtcW8wjnhMbBjbtJtlWN2Ukgb8LlcgCtb/DL4DeHfBOj+L7mwv8AV/D9tPc2Fx/ZbzS2q53XF1HDGshtol5G/hUX5A3ODX16+8U+IPiVo/hvxpcaXJ4C8X2d/a2+laN5+d8JhmheW+VkZjLEJgYlRU2gjc/8WToF1oviTw/8QvAOv6pq/jH7Jqt1b2WkQ6r5es39hCkO+JnEsbtGs0kse55FDKAGPJz2PgnwLJpvg/wvqHxBv5LHVND1m61PTzdar5r2SXDTxQ2ctycecFiuRFgkglU5cqGIBX+EXg2z8MeIviv4KttHi0zw02oQ3llb2kDW9qsN1ZxrLHEoAVcSRSE+WcZfPDE1v6bPY/An4Q+HdO8SXs+ty6fZ22jrJZae81xqEqpsREgjDMzNg9sfeY7RkjO+Inxel0b4h2XgKKObSP7Z0svb+Kk2SR2V3I0iW6GJ1KtkxsQSSM7QRg5ryTxX4audX13xN8OrX4kX41Wzn0u+8OXmu6gGvTqDQ3Buo43UbyrQMrbkA8tpSVwFAAB6p8QvGHj7w9q9jqKRaRB4RutV0/SF08Rytqk63bpC04lLCOFonlUiMo4KxuS4JUV4fpvwJv8AQvHnhTwNNfabCV042l8fC2nSRPPDGryw6xeNsEcN0LmC2C/MxcvN1VmC+jeFP2fdT8R+Hbix8T3Wr+DdFttet9Y0rR9K8QSXM9osVsYnjN0wLJHJIzyBUbcuQQ6k4XtPEvxR0P4OeHfDEel6Feal4KVY4bjXNOnilstJtQyRCaaRpN7jdImSoc7d7scKcgFLTvhbpnhXTfG3iD4o6noXiW01NLeXUJLzS1gslhtYjGkksUkkitKyk734z8qgYUVk+J/jpHrVl4d0v4c6laaO9zrEWiXV1rWizqNNL2jT2qNau0EiCfESI5BX58AE4xk+LNS8cfCPxB498Za3p0HirwzC6zRXGp+IDbhbMldlnaWQiMIlVwMySMrSMVXceNuonw98QeOPin8SLTxF4StB4F1qS0tm1O8v2Fxc28NoPKFtFH80bpcySt5jMhGAUBPzAA4y/wBei8Kap/wta38Pzx+MItaPhfxfoelRSXk+sISiRfZ05LmMNHMgOAqPMCRiu38A/s7xaVqmh6jFczaZ4atb261u38NahZxve21xdwGOa3luVldGhG9z5QU/NtG8qiirWseL/Df7Pfh6xtdAim1+58Q63LbyalqetBoEvfLZpHvr2ZmMQCW5QABjlERU6Yz/ABl45uvCGu6X8WLPxwPEXwwuJE0vWbCCe3fT9LtpCqLfxSoAxaK4GJS7ECKVzhfK5ANuHxBPcfD/AFP/AIUh4d0e0NvqDqG1LTpbDT7j7zTywIioZyXGwOMKzEtuYD5vO/GWvar4q8UeB/ijohn0zw9eaXNpuqajaaR/aWp+Hp4neR41i8uQlZJFaCQrGSDEmD84Ib8KvhD4h0jxb4d1Pw1qo1fwpHftd2viaLXJDDLo3lyJHp4swPLfDMrrIoCk5fdk7W9P0Dwb4S+Cmo+LdV0tNT8TeMNXkOpX1olylxqNyHkIRYoCyRxRgnaNojX5cuxILUAcT8M/gt4o13w/4M1LW9Th0azGoQeJr7w+2mOk0GoKWZjbuZFNtHMzl5IWVyu54wdrGu90zx98M/B3izU/Dfh6PS7LxFdXBW4t9LsPJjub0RFxDJOqCI3BRfuM+8DHAyK427174jfGDwprF/oM0ngbxj4N1iaP/hGre9gurXVZokgnhtrucxgrHLFKUYIV2tIGDMEUtT1z4iL8aNC+HesfC7RIPFIg19dR1ayF/HZ/2VOLSdhHfEbikiTyR+YgV3BU/KcigCh8PvGvhf8AaA0jw5Z/EG0m8R3upSXEunyXuiyW2jLc+Via0jRpGWWS3KyJvlyd6uUIPToPBnhLXPGf7NXhbR5bPSbfWrfT30O7vPE9m90YLdA1tNIiHYzl0jBAcqGDAsTyDa17wd4d+EB0/wAaR6Fear4our9Y7bQtJ1Jo9P8A7WukEM0sUUrrFHu+fc5GQC5xuZs+f/Gj9oSc6p4P1fR7rVtLvdJudWt9R8G+S01xqN1bvao9m0MRbzCYpnmRgChQhyyggkA7TSdX8M32iRt8IV8M+O/iN4b0e30i01DWrllb7Gm9N4uNjNIjMjgtGSrvwz/LkZPxY0nw78Xvgne/FTTtJkvPFGl2cWpWcd4r3Mumz2U6TywxQFsRTB4XRjEBITwCeBWloWs6/wCKfi54Q8S+E/BLf8IzN4Qghi1C7uYLa1sY57nfLCxjMjySolvEFiQbAWOXXOa6yx8IeBfgJrPiPxxrvid9PuNfvXea713U1gtImkKnyYIcpChPlqSwXzHILOzGgDmfE37N7eJPiBe6/pUnh7T9F12607VL6R9H/wCJnFNbSGQ/Z51ZCvmnGS4JUtKwBL8d/wCPfG3hz4M2d/qY0W91DVtWd7o6doNiZ7zUJI4lDMeiKFRFBeVkQYGWBPPnPxH/AGh2hn8RaQhj0PQvtsXhyPxJaXvm39rd3Nt5kN2tr5RU24LACQSEnY52gLmm/CPW/Enw98Q+G/hx4hsfDzSatbXV1LBp2rT3+oQlRue6u3nGZRMx+9xhnCjcBmgDS8VeMvGE6eGvFllrdkvg/wAQ6hpdjaeHPsBW6uLW9CLJI84clZ081pAEwgWFs7i2RyPgH4U638PPjD8PbSx1h9Xj0bSX0m4uNM0FrOzk0kRMVa8m3GKW6a4SDYItpULKSuHau88Ofs82erfBnwZ4I8bM9xF4buFkhj0i9mto5Ei82O3RyhVivkyKGjB25GBlQK9c0jR7Hw/pdrpumWdvp2nWkaw29paxiOKFAMBVVQAAB2FAHmfgH9n6x8M/2+uv6kfF1lqepnUrfRb2zjXS9MImMsX2e3O7Dq21jIzMxZdy7OlesUUUAFFFFABRRRQAUUUUAFcl8Q/il4e+F9naz67Pch7ouLe1sLKa8uJQi75GEUSs21FBZmxhR1PIz5r8R/jfq1r4jn8CrZW/gzUtfgvbPQNa1XVrZJnnjibFx9mG4rCXCqjklixGY+Ru8G0ew1P4hwweHJIf7WvdTmu9R0a3Hji7ub6yjtHtrW/tbicok0a3arPn5iqs5TCE5oA9v8Y+JvGes+K/Cwk8RaRZfD7xo15o1hHpds00rLNYyTWl49zJtG9vLbEKoF+YfvHOAfNfBXwxm1DxJ4O8PWPh+/8AAGv6fprQ6/8A2ZpckemW95ZttstSt5Soicyk3KbclpIbhg+DGCPZvhd8Irv/AIQ61tPFVtcaalj4h/tzRdJTVnu5NLiXBit3n43qCZDsG5VVwgLBQa6bWPis+gfFDS/C2oeHr2z0jU0MNp4klli+yzXu3zBaqgYuGMYdgzAAlCoyQaAOWHw/0L4e+CPEmsfEmHTPF8l/q66zcxWmgs8Au2SG3iW2tC0zeYxROQcu7sTjPGF8Xfi78QNG8V+G7bwzomowW2oW1tPbWD6ILqW+nd5DcW80nnqtuIYI97dyzKFYn5W8lv7S71qCz8Hah431W28Ya5qj6Tq1ld6i891Y6gkk1zYatZRO5MaI0IyISEKKvACE16f8PP2a7q5M7eKbEeGI7aO1axj8NeIbtpY79YZ47q9jlwjw+ctwyFAW3Bdz5bGADgfB974pv7i5Xw8+p3PhrxRrbXlhaWuj77TULC8nlN+99cGHzLe6tjIy7ZZFwbdEAbfx7T4D+BkPgiO+vfF+s6f4i0+30OLQ44G0tLe3TT4CWDXAZ3Esm0KC/wAq7UACdSbXxA8d6Z+zx4c8K6HpOlWdpptzKbKG91fU1s9N06NELtJc3Mm5iSM7RhmkY4JGSw4f4h+JNDs7vw18Q9N+J01za6j4mtbNZH1hE0e3shFI11bPCMRHMKSuWkHmBwhDDaFoA6HxH8a9O1j4V6Jqvw11ey07SbnXLfw9Jqdzpcgj0lTKYTutn8sxnd5SJvAXEsbYKkZ4LxHdzWUuv+P59Djj+L/gjVINO1JtGsZpn12xkIFqkUa732zxTrhQcJKJAT8m6uzuvAOq+Lfijcax4bstKufhj410e3l8S/2xudL6RQFgltYFIZZWt8RyPJtGI7cqGMZB6jU9P0X9nXwVqeo6Dp82o32o39rAqatrErG5uJpI7aBHuZjIY4kDIvAIVV4UnqAYHh39nfw34p8R6J8R9StPE+k+I4dTk1yy03Wb6OT+ynmDCaBYEaSCMSg5cqWfPRwQMXtL+K/w+8PaH4psfBkMOmXVpDf6jGiaXJawahPErmeWF3VEuSHjId1Y528tjmuH+JHjGy8UeBdQ8eaL8ThJrGlnTrO3s9B1oJpdleyXMce6RQB56SM2MzgqY87QuS1NHwW0bxh4i8Gav4HluNe8HpqVzfJfT6jE2madA0xF5BaxBPNl+0sGXljGF3ENg7XAOYttW8KfHjwB4j0z4hanptn8RPCVrb6Z4p13T9KF8BayfvEe0LxukLXK8lEUyI25doZFI7XwT8HPFPjjw/pusaxrJ8PpqupQatrOkvpbxyzzWt3vguYdzq1nLOkUTSxsrgb3QAda9H1/S/BX7PvgjWPFuleFrDTINE0f7OINLgitR9miZ5EgB+VEQPI5ycAF2J715d468XeNfHXiuDQ5NA8Q6RqWk6dPNd6F4a16KCZppyiWV7HM7RC4t0ZbhWU42OFLxsCtAHo2nah4W8Ear8QLHwR4RkXXoY59Y1W5sdLZIby/dPOETzYHnTt5gbapYqGH3cgHwv8A4WPD8U9I+GeoanY3XxBmS6uNYi+0aPFHYa1D5BjuUsI8tua3ExKxzASOIpSCxWqXhz4U+PPiXpTeL4Dpuoa9qkT2V1eWusy2Vrp2tWkotJNYtPJUrIk8durFcBv3aqDhmI+nPDXwZ8LeEfEI13TrO5S9jWfyYPtkrWtu8zmSd4bct5UbSMcsVUenAzkA8L8Ffs16J8YfCGpW/iK48Tp4YtmfR9EsrtprAXOmwu0tlLcQSIsshgeeZIxKSjKivs+avXbeX4ffDz4pR6dZaZFc/EXxBawPeT2FgJL6S0jUQpcXTooEUA8oKCdqllwoJ4rj/GHxJ8aeOtPm8MWPhHWPCWq6lbx6pp4/tOGC9vdOiu4EvI1dSRa3PlSqQNxwJB8yMDt4Xw74PufGnirxRB4r8O+INYvvDESX3h7S4vECw6mdPvS2NM1GWO4CybZrVbhRLI+1HiySykEAv+I/jJda/wCK5PCnjXT4NX0G/wDEMmkan4ZXSpYp9KtEuPLtLqaQystzBcM9qT8oUrMQASjit34TzadqfiD4x+D9C8KSJpF7rF3b5bTGh0SAx2NtbNG+TGJDJIkhZbdWGPvsCcntvBXwdvLnwL4K0/xtqd/fXmhSfaWsIdTklt5ZFl8y2W4kKq9yYAIwC+FZk3FScYxvG3xV8b3XiW88JaX4Sm8PjVtL1eDQtYvLyL7RcahboPLIiUMkUTZZkkkbLbeUXI3AFWw0bwp8BvB/hDTfiV4ln8e67pIabSrq70cXFxbLDEqtJb28EbukcUarmVy7DJLSEtzoal8RdSu/HOnaT4kj0e7+Fvjq3ax0DU9MmlEhnMPmrHcS7gpW5iMpjKAYMO0ljItef+AviBdWUs2neEdVvfGB1vwfd6lp+l6vqHn6vpWq2yxrNbTNK3mqkzzRcMxCSRPyA647nwr8Fbrx58DNB8DfETSl0TSNPXT1j0bStSLyyRWixNGtzcIq4fzow5EDDG1RvYZyAcnpvw10rQvjPfeFtF03RvEOg6mEm1rw+/hxYdN0aO2iMmmlZEQoZfN5KuWZhIXAUIoPd2Pw40DwL4J8V6x8S20XVLbUNSHiHU4Y9PYadbzJHFGvlW7GQswMStnG6SRi20MQK0fH/wATtO+D154a8O2kGj6XphtXnnudSvvslvYWMDwxERqEYyyM08aJGNuSc7uAD4N8Q/iJbal8YdedI9V8f+B/EcWnaPe6dbec+lW1nKi+TfLdYEMf+kSSowRmkYpxymAAel/E/wCK/ivxP8MvEPij4cala6Fp3h21uJ9RGr6XONTNxAFka0NvKqi3DRcmVhIwDjEfevM/HXhfU/CHxTufFfhdry/1W82eIvDXk+GEu49UvrrzI5rS4voUdkhW2UICWQIs3mEvsArs/hX8LdW+Gp1288amLw94WTRri01zULrxLPeDWrhpATqDmXmE+XvBYsGJcKAqxrn074UeL9C8d+Ar7R/Blxq+lW+hIuiW93qVg8Nwm23jMNwiTrmRSjoysy4bB4oAr6xaaH8Kdf8AGPijxDqjvpni+eytU0uGwknna5WBoSiCINJKXRVO0L8ojY525287pHxAi8Oaj4btdG07w9afBTWoU03R7/QHeOSG4cHBcKFSFC+6MKo3B8liDwOI13wp448LeOtK0RtWn1CS81hL/wAJ3Gsa419O09pBM10bqMwr5cNxFI6YiLCJmjIUfdHZeG/ghfeNfBvjnRvFtpd+D9G8Sa8NWTRdJ1RJZYF2xNcATiP90s86SyERncPNYhkZiFAOL1PwFpnw/wDG178H9J03V7vwr4pij17Sf7CQzTeFdShljD3MjuQsUUriO4Qs3zSx3Qw3mAV7d8M/hzq3hPXvFGva/rNlrGsa7JbiWTT9PNlEI4IzHGzIZH3SsuNz5A4VQNqCpPGutW/wM+Ed1e6FoUmpWeg2qJBpy3RQCMELukmfcwVQSzuQzYVjhjXlereKrL4xeGLHxD4e8eW83jbwnanVDZaPfz22k3BBBkdo5ConhKhkWV8qNxPGaAOz8S/HKEtq3hrwlpV+3iUwXtpoU19p7wadfahbxMzW0Uj7QzLtY/wo2xwH+ViPn+/1nxT8Q7GwN/L4zuNRaa6k8M6ytlpQuryxH2a31aNUjMkSuUe4eEMobYhIZzha9UufFOu/tDQfDTxb8MEsDo1ldXV1c6hrsVzDb287WnlJJDFsQ3qr9onAZHWMsD8/FepeD/gx4Q8Ea7NrmmaLb2+tTrL5l0pcqhlkMs/kxszLAJJCXYRgbjjOcCgDxzwV8B5/H3w7aw1Oz/sG0W5k0yw1DWdBtBrj+HvKCraEgYt2yWjVypcRopKK5yPo2z0PTtO1C9v7Wwtre+vthu7qOJVluCi7U8x8ZfavAyTgVeooAKKKKACiiigAooooAKjuLiKzt5Z55UggiUvJLIwVUUDJJJ4AA71JVbU9MtNZ0660+/toryxuomgnt50DxyxsCGVgeCCCQRQB5r41+Ns+laKmueEtAj8a+HI9Pk1a51201SGOxW2TduEMg3+dJ8jHaAFAU5cHAPnnji5134Y69o/xSs9ZvtY8NXID39lq2vtHLeLdyRLBa21kIvIBhUs67SskjfKWbcSY/Efw/wDGCat8Sfhf4K0lrHwZ4nsGuo9dvE8uy0K6uVdbmGGPIa4WTCyhY8KjySBmGQB7P4Y+GltpsOm3PiC5Xxdr9hJJNb6tqFlAj2rOoVltlRQIUAXAAJOM5ZiSSAZXxO8Dar8VtKvPDymDw/ot1IbPVLq4tEuLq9tAEcC2YSbYssXXdKrEYJCchqqXfivS7GWXU/hl4V0nxnq2qXUtvqGo6Rd20ECSQ/6wXVyoZjIC20JtZtxOdoyw9SIBBBGQexrwLVfC+vfC74sJY/DPwsZdD8T6WU1OGNVtNN0e5hCRW97uPDM0ZKPDGC7CGNuACSAef+PPGPjjV9KuvitoH9o2enNZ2mp6VdXGuRQ6Vp9vEv8Aptrd25lVZWmIkVJArnc0R3IFOPcPiH4Yv/jZ8OpNHtg/hm4u4LLULTW7m3SdrSbeJd0UYkDCaLaMF/lywyHG5TD8Jvgg3g74f6N4f8YavF47l06KzWFbvT4Y7O1e3TbG9vDglWz8xd2Zy3ORwB6pQB5Xq3ijw38KPD+pSTX0njnxj4Z0lrq4ieW1l12a3ZydzgeXsRmPXCIAOBxXH6l408PfGTwXd6pffECHT5NC0y81DUtG8D+JcrCVTcsr3MSrI/lDHQCPzMhlbaBWz8evBj6K+meO/B/hl9X8bWmoxxyWGn26h9atpwkFxbXEhwioYkVhJKdqNBGT6HR0H4QS67rUWseLbPSbfT4tGm0Wx8KafaL9ntLW48s3Ec0v/LYny1TChIwAflYnNACfDLxbF8Tfhb4YEj6f4y1y1gto9Tv1WKa1s9TS1WUyP8wDFZGUERZKs38ODirpfgzwp4Pmnh8Z3mi+K/HOoX83i1LAWsEUslzFAsXmWNozM/7uJFQOWdskkv8ANx63pelWWh6dbafptnBp9hbRiKC1tYliiiQcBVVQAoHoBXmP7QXgSHU/CN74q0fT2/4TzQ1iv9HvrGzM9288BcxW+F+ZopPNkiZc42zOTjGQAcvoPxS0v9ofwymnnxDaaDrcjm8j8K6L4nSO+nhCErbXk0Sb4GJBaRICWQAAswJzR8DWV18Rfhd4s+EHj2zbxZd6ULbRtUv9N1RLoSJcKH8zzpRGyy23U7gZf3cb/Mziur8L/DzWvF+o+FNe8Q6Np3gjTdIml1O38JWMUU88d7LHJG73F0h2EbZXOyJRktlnbGK9R8PeGtJ8J6XHpuiaZaaRp8bMy21lCsUYZjlm2qAMkkknqScmgDya0+EvhTw7qki/EbxDpPie98Qiw0iws9atbW2juEs3kltoViP/AB8TK8juSc842qoHPMJ+0LpnxR8Wv8P11e38FW99NcW9re6frtuuqn7PdJA0MkBXNsZ2LrFtZpMISAp+7618W/hpoXxH8KX0Gq25jvIbaQ2Wq2tuZLzT5AUkWW32gtvWSKJwF5Yoo5rxzwD8KvG3xa0/+3vHCy+C4NYm0u91fw7Lb29xPd3FjteOeOQZNokjpExhbe67DgxszUAbvwr8V6RqFh8Q/As2pSeNWtdR1K3sfD11frd3smnRiKCWKR5WB2+e0yKZmyRxuYKcauh/B7TPhxDdar408Yx6x4V0rQm0O2XXooYY7bTy6s4u52OJmxHGm87BtU7gzMWr1Lw/4R0TwmL/APsbSbPSzf3Ul9eNaQLGbm4kYs8shAy7sSSWOTVnWdD07xHp7WOq2NvqVk7pI1vdRLJGzIwdCVIIOGVSPcCgDxDxx+0r4b+EviLSfDOnWOhwaBBBpx81tXgsF8i6lMUQsYNuJlRFaRiCiKifePO3jfAXxe1LQv2g9bs4v7c8T+HvFWuPbNdSJL/Z+jyCFDamK4kAjdJoFDiOHdyQxOHDG34T+GPjgeMZvD+gG78M+HvBl5eReHvE+p2sc8UtpcwpusVtHIkkEDsRHcblXZGqjeCwP0H8PvBFj8N/A+heFtNeSWw0i0js4HmCh2VFwCQoCj6KAB0AA4oA4DXvAPiTxN8ULHxvJ4hfwVoNhpUthc2Jgge9kVbsyu32gu8UUMiRQscKX28FoyOOa+If7QXgv4Labb33hDT/AAzfWOuW134hl1GLVrewtL4RsiuYpVV/tNzI7qiquc92GAD75qemWms6ddaff20V5Y3UTQT286B45Y2BDKwPBBBIIr5s1L4Y+J7b4p33hPwhp1zpnhKLUrXxXZ65LDGLHR78+Z9otUhfBuYphh9sW0RPK53q20AAwfEXxyuvDnx7l8T6HJrPizQNQt9N0+fTbISS6ba2shcLei5/494ytwzxuFZnfaQPuED6C8TeD5fHPiPwzqbxy6NN4W1tryCWZEkN9E1pJE4jKSZjVjOQd/P7o5TBVqtfDD4fp8OPC7aY1++q3dxeXOpXt68KQCe6uJmmmdY0G1FLuxCjJ9Sxyx66gDyrx38UfB3w507xHr+jxaHqviGC9tdL1GO2vLe3eO4lcJCt7PyYVG/cTICQM4BJAPiOvfHmX4ieIvAviCxl0OSxgu7rTnJ8RSPo9hqK3BEF1cSQEGVJY4JBB5sYBaXIxjJ7742fD258PeJtM1PwL4TudUuvEsd3ofiDS9J2WcdzaTLJKbyW4YeXFLDMxZXYFmE0iqGJGOv+G/wRm8OXF5f+LdYt/F2pXOkWehsp0yG3txaW29kVowD5jF5ZGLHC/NhUQZBAMG0sY/2kvCvw/wDF6WTaDr2mtPqmm65aPDd21pcqWt3iGSrTwTKWcFQFZURtwYLWzcWGtfAH4VCLwz4fufiJqa3tzqF9Ek0NgZHmklurmZVVSoy7MEiVSSzoC3LPXrEUSQRJHGixxoAqogwFA6ADsKfQB8aeMvipr2m/EC68b2Gt2eseH4dKPjCyt7jxRJYwXmjC2MS2cdm0BiMxuG3tI7EhhEpZNyhfoLwV4W1Cx+J3jXxBDEbbQPE1jpt5FIX2zLeJHJFLujORnyltvmOMkEEHaDWd8Ov2dND8Gy3dzq8//CV3MmpT6nZQX9tH9i0d5ZmmK2MGD5A3MCTuZiwzuHAHrVAHmWu638N/g1rVvq/iPU9OsvFOpWqWsmr3saHULyGFRl5DGgIjXAZmCrGpIzjIryjx78UPEfxT8GTafDFbaDoniPWLnQ9E1nS9XlDre207rHa35VEaGO6a3kizGxK+YiE7nGfavjTp1xJ8LvGtzpOkNq3iB9BvLW0gt4EknmZ4m2xKGIDAvt+UnB71518O/gFc3FtZ3+qjUvB1o19Z6jdeFre/gvIr2a0jhSCe5fyT5cp8iNpFgfaxRcsx3ZALnwr8Za9DqXiHwDLpPhXV/wCwNJtpI4fC87JZ20kjSo2nzeYWKuqorBio3KxLImQD3Gj/AAwMfjfVfEut6p/bMk9o+l2OnC0jhtLGxZwxiC8tI7FRudmwQAAqjOex0/TLPSYXisbSCzieRpWS3jWNWdjlmIA5JPJPerVADURYkVEUIijCqowAPQU6iigAooooAKKKKACiiigAooooAKKKKACiiigAooooAKKKKACiiigAooooAKKKKACiiigAooqvf2Fvqlhc2V1Es9rcxtDLE3R0YEMD7EE0AGoXsemWFzeTLM8VvE0rrbwvNIVUEkLGgLO3HCqCSeACanB3AEZ59RivgTWv2XPi1rPgnUbC90tb6613R7yz1aJ9QgO+TTdNmstG25fGbmWRbknOEIw+09PaR8CdVg+Iep+L4PD8EevyeO7PULfVxJCbhdKGl2ttOFbdkRl0mBi4LEbtp+U0Ae/TeJ9Mt/FFn4dkudus3dnPqEFt5bHfBC8Ucj7sbRhp4hgnJ3cAgHEviHX7DwpoGp63qs/2XTNNtZby6n2M/lwxoXdtqgscKpOACTjgV83fs8/B3X/BHxJ8M6jqPgb/AIR+XTvB9zo+ua/9stpf7b1RriydrrEcjSP5vkyyebKquc7XC7Vzc/ar+EmufEOXXWtPBX/CeR3vhG80nRo/tVtD/Y2puXxc5nkTZvDRDzYtzr5OMYYmgD6I03V7bVhMbbzikTKpeW3kjV90ayAoWUBxtcfMuQDuUncrAXa+Y7j4Aan4m+IVtJ4j8NW+p+GT4zi1e4gvJIZYZbVfCqWId4ix3gXa7NhBOQGxt+auT0b9nDxjZ23jELD4hg8YXmnananW/tWk22maqJpgyIZbdFvizIFVTPnyMsFJAG4A+uLrXtPsdYsNKnu44tRv0lktbdj80qx7fMI/3d65+oqfT7+PU7KG6hWZIpV3KtxA8MgH+0jgMp9iBXzs3wg0q48X/DfxBYfA630XTdGvL2ObR2tdIWazkmW3Md8BHOY9qtDyUcy5AIQ1xEPwB8aReH9Hsrvwj/aGtjQdNsNH1j7bbf8AFK3sN5cSXFxkyBl3LJA263DtJ5PluAoXIB9k0V85+AfgbqXhPx14f8TReHoLHVpfF/ia61nUY5YvOl0y6mvpLRXYNl42ZrRxGM7WOSqndX0ZQAUUUUAFFFFABRRRQAUUUUAFFFFABRRRQAUUUUAFFFFABRRRQAUUUUAFFFFABRRRQAUUUUAFFFFABRRRQAUUUUAFFFFABRRRQBleJfCuieM9Jk0vxBo9hrumSMrPZalapcQsVOVJRwQSDyOKj8K+DPD/AIF01tO8NaFpvh7T2kMzWmlWcdtEZCAC5RABuIUDOM8D0oooA2aKKKACiiigAooooAKKKKACiiigAooooAKKKKACiiigAooooAKKKKACiiigD//Z)"
      ],
      "metadata": {
        "id": "VDuUVa9q_u3N"
      }
    },
    {
      "cell_type": "markdown",
      "source": [
        "Dari visualisasi data diatas, didapatkan bahwa keseluruhan arah angin memiliki kecenderungan mengarah ke arah Tenggara, Selatan, dan Barat Daya. Arah angin dengan rata-rata kecepatan terbesar mengarah ke arah diantara Selatan - Barat Daya. Selain itu, arah angin dengan rata-rata kecepatan terendah mengarah kearah diantara Tenggara-Selatan. "
      ],
      "metadata": {
        "id": "29SoxBFH_zfb"
      }
    },
    {
      "cell_type": "markdown",
      "source": [
        "**Data Numerik**"
      ],
      "metadata": {
        "id": "1CV1nRMc19sJ"
      }
    },
    {
      "cell_type": "code",
      "source": [
        "datnum_1 = df"
      ],
      "metadata": {
        "id": "eUWcm1RidiGN"
      },
      "execution_count": null,
      "outputs": []
    },
    {
      "cell_type": "code",
      "source": [
        "datnum_1.drop(\"primary_use\", axis=1, inplace=True)\n",
        "datnum_1.drop(\"wind_direction\", axis=1, inplace=True)"
      ],
      "metadata": {
        "id": "YPZkhk0E2QUG"
      },
      "execution_count": null,
      "outputs": []
    },
    {
      "cell_type": "code",
      "source": [
        "datnum_1.info()"
      ],
      "metadata": {
        "colab": {
          "base_uri": "https://localhost:8080/"
        },
        "id": "CcHOVpoA2ksO",
        "outputId": "87c2be6e-ef4f-43b3-ed40-554d56f682c8"
      },
      "execution_count": null,
      "outputs": [
        {
          "output_type": "stream",
          "name": "stdout",
          "text": [
            "<class 'pandas.core.frame.DataFrame'>\n",
            "Int64Index: 1220 entries, 0 to 1412\n",
            "Data columns (total 8 columns):\n",
            " #   Column              Non-Null Count  Dtype  \n",
            "---  ------              --------------  -----  \n",
            " 0   meter_reading       1220 non-null   float64\n",
            " 1   square_feet         1220 non-null   int64  \n",
            " 2   air_temperature     1220 non-null   float64\n",
            " 3   cloud_coverage      1220 non-null   float64\n",
            " 4   dew_temperature     1220 non-null   float64\n",
            " 5   precip_depth_1_hr   1220 non-null   float64\n",
            " 6   sea_level_pressure  1220 non-null   float64\n",
            " 7   wind_speed          1220 non-null   float64\n",
            "dtypes: float64(7), int64(1)\n",
            "memory usage: 85.8 KB\n"
          ]
        }
      ]
    },
    {
      "cell_type": "code",
      "source": [
        "#Statistika Deskriptif\n",
        "datnum_1.describe()"
      ],
      "metadata": {
        "colab": {
          "base_uri": "https://localhost:8080/",
          "height": 300
        },
        "id": "yT8uIjZG54GJ",
        "outputId": "62173284-8626-4f5f-8087-be99aad3122b"
      },
      "execution_count": null,
      "outputs": [
        {
          "output_type": "execute_result",
          "data": {
            "text/plain": [
              "       meter_reading    square_feet  air_temperature  cloud_coverage  \\\n",
              "count    1220.000000    1220.000000      1220.000000     1220.000000   \n",
              "mean      177.946855   94248.848361        16.471980        2.281007   \n",
              "std       287.765589  112289.202199         5.417993        1.285398   \n",
              "min         0.184487     283.000000         9.079138        0.338958   \n",
              "25%        29.748446   23097.750000        13.109654        1.092101   \n",
              "50%        81.174928   59363.000000        15.502518        2.083712   \n",
              "75%       187.132348  116858.500000        22.744816        2.998727   \n",
              "max      3430.982972  875000.000000        24.963702        4.079235   \n",
              "\n",
              "       dew_temperature  precip_depth_1_hr  sea_level_pressure   wind_speed  \n",
              "count      1220.000000        1220.000000         1220.000000  1220.000000  \n",
              "mean          8.414446           1.041719         1016.581075     3.397821  \n",
              "std           4.911634           0.813402            1.946086     0.603191  \n",
              "min          -0.304675           0.155325         1011.436563     2.157103  \n",
              "25%           3.901814           0.775686         1016.426988     3.100911  \n",
              "50%           8.285693           0.895980         1016.797495     3.619547  \n",
              "75%           9.834399           1.033215         1017.949437     3.905433  \n",
              "max          17.379328           3.381837         1018.052063     4.112377  "
            ],
            "text/html": [
              "\n",
              "  <div id=\"df-9d4e0686-513f-431f-9609-319eafbd2f8e\">\n",
              "    <div class=\"colab-df-container\">\n",
              "      <div>\n",
              "<style scoped>\n",
              "    .dataframe tbody tr th:only-of-type {\n",
              "        vertical-align: middle;\n",
              "    }\n",
              "\n",
              "    .dataframe tbody tr th {\n",
              "        vertical-align: top;\n",
              "    }\n",
              "\n",
              "    .dataframe thead th {\n",
              "        text-align: right;\n",
              "    }\n",
              "</style>\n",
              "<table border=\"1\" class=\"dataframe\">\n",
              "  <thead>\n",
              "    <tr style=\"text-align: right;\">\n",
              "      <th></th>\n",
              "      <th>meter_reading</th>\n",
              "      <th>square_feet</th>\n",
              "      <th>air_temperature</th>\n",
              "      <th>cloud_coverage</th>\n",
              "      <th>dew_temperature</th>\n",
              "      <th>precip_depth_1_hr</th>\n",
              "      <th>sea_level_pressure</th>\n",
              "      <th>wind_speed</th>\n",
              "    </tr>\n",
              "  </thead>\n",
              "  <tbody>\n",
              "    <tr>\n",
              "      <th>count</th>\n",
              "      <td>1220.000000</td>\n",
              "      <td>1220.000000</td>\n",
              "      <td>1220.000000</td>\n",
              "      <td>1220.000000</td>\n",
              "      <td>1220.000000</td>\n",
              "      <td>1220.000000</td>\n",
              "      <td>1220.000000</td>\n",
              "      <td>1220.000000</td>\n",
              "    </tr>\n",
              "    <tr>\n",
              "      <th>mean</th>\n",
              "      <td>177.946855</td>\n",
              "      <td>94248.848361</td>\n",
              "      <td>16.471980</td>\n",
              "      <td>2.281007</td>\n",
              "      <td>8.414446</td>\n",
              "      <td>1.041719</td>\n",
              "      <td>1016.581075</td>\n",
              "      <td>3.397821</td>\n",
              "    </tr>\n",
              "    <tr>\n",
              "      <th>std</th>\n",
              "      <td>287.765589</td>\n",
              "      <td>112289.202199</td>\n",
              "      <td>5.417993</td>\n",
              "      <td>1.285398</td>\n",
              "      <td>4.911634</td>\n",
              "      <td>0.813402</td>\n",
              "      <td>1.946086</td>\n",
              "      <td>0.603191</td>\n",
              "    </tr>\n",
              "    <tr>\n",
              "      <th>min</th>\n",
              "      <td>0.184487</td>\n",
              "      <td>283.000000</td>\n",
              "      <td>9.079138</td>\n",
              "      <td>0.338958</td>\n",
              "      <td>-0.304675</td>\n",
              "      <td>0.155325</td>\n",
              "      <td>1011.436563</td>\n",
              "      <td>2.157103</td>\n",
              "    </tr>\n",
              "    <tr>\n",
              "      <th>25%</th>\n",
              "      <td>29.748446</td>\n",
              "      <td>23097.750000</td>\n",
              "      <td>13.109654</td>\n",
              "      <td>1.092101</td>\n",
              "      <td>3.901814</td>\n",
              "      <td>0.775686</td>\n",
              "      <td>1016.426988</td>\n",
              "      <td>3.100911</td>\n",
              "    </tr>\n",
              "    <tr>\n",
              "      <th>50%</th>\n",
              "      <td>81.174928</td>\n",
              "      <td>59363.000000</td>\n",
              "      <td>15.502518</td>\n",
              "      <td>2.083712</td>\n",
              "      <td>8.285693</td>\n",
              "      <td>0.895980</td>\n",
              "      <td>1016.797495</td>\n",
              "      <td>3.619547</td>\n",
              "    </tr>\n",
              "    <tr>\n",
              "      <th>75%</th>\n",
              "      <td>187.132348</td>\n",
              "      <td>116858.500000</td>\n",
              "      <td>22.744816</td>\n",
              "      <td>2.998727</td>\n",
              "      <td>9.834399</td>\n",
              "      <td>1.033215</td>\n",
              "      <td>1017.949437</td>\n",
              "      <td>3.905433</td>\n",
              "    </tr>\n",
              "    <tr>\n",
              "      <th>max</th>\n",
              "      <td>3430.982972</td>\n",
              "      <td>875000.000000</td>\n",
              "      <td>24.963702</td>\n",
              "      <td>4.079235</td>\n",
              "      <td>17.379328</td>\n",
              "      <td>3.381837</td>\n",
              "      <td>1018.052063</td>\n",
              "      <td>4.112377</td>\n",
              "    </tr>\n",
              "  </tbody>\n",
              "</table>\n",
              "</div>\n",
              "      <button class=\"colab-df-convert\" onclick=\"convertToInteractive('df-9d4e0686-513f-431f-9609-319eafbd2f8e')\"\n",
              "              title=\"Convert this dataframe to an interactive table.\"\n",
              "              style=\"display:none;\">\n",
              "        \n",
              "  <svg xmlns=\"http://www.w3.org/2000/svg\" height=\"24px\"viewBox=\"0 0 24 24\"\n",
              "       width=\"24px\">\n",
              "    <path d=\"M0 0h24v24H0V0z\" fill=\"none\"/>\n",
              "    <path d=\"M18.56 5.44l.94 2.06.94-2.06 2.06-.94-2.06-.94-.94-2.06-.94 2.06-2.06.94zm-11 1L8.5 8.5l.94-2.06 2.06-.94-2.06-.94L8.5 2.5l-.94 2.06-2.06.94zm10 10l.94 2.06.94-2.06 2.06-.94-2.06-.94-.94-2.06-.94 2.06-2.06.94z\"/><path d=\"M17.41 7.96l-1.37-1.37c-.4-.4-.92-.59-1.43-.59-.52 0-1.04.2-1.43.59L10.3 9.45l-7.72 7.72c-.78.78-.78 2.05 0 2.83L4 21.41c.39.39.9.59 1.41.59.51 0 1.02-.2 1.41-.59l7.78-7.78 2.81-2.81c.8-.78.8-2.07 0-2.86zM5.41 20L4 18.59l7.72-7.72 1.47 1.35L5.41 20z\"/>\n",
              "  </svg>\n",
              "      </button>\n",
              "      \n",
              "  <style>\n",
              "    .colab-df-container {\n",
              "      display:flex;\n",
              "      flex-wrap:wrap;\n",
              "      gap: 12px;\n",
              "    }\n",
              "\n",
              "    .colab-df-convert {\n",
              "      background-color: #E8F0FE;\n",
              "      border: none;\n",
              "      border-radius: 50%;\n",
              "      cursor: pointer;\n",
              "      display: none;\n",
              "      fill: #1967D2;\n",
              "      height: 32px;\n",
              "      padding: 0 0 0 0;\n",
              "      width: 32px;\n",
              "    }\n",
              "\n",
              "    .colab-df-convert:hover {\n",
              "      background-color: #E2EBFA;\n",
              "      box-shadow: 0px 1px 2px rgba(60, 64, 67, 0.3), 0px 1px 3px 1px rgba(60, 64, 67, 0.15);\n",
              "      fill: #174EA6;\n",
              "    }\n",
              "\n",
              "    [theme=dark] .colab-df-convert {\n",
              "      background-color: #3B4455;\n",
              "      fill: #D2E3FC;\n",
              "    }\n",
              "\n",
              "    [theme=dark] .colab-df-convert:hover {\n",
              "      background-color: #434B5C;\n",
              "      box-shadow: 0px 1px 3px 1px rgba(0, 0, 0, 0.15);\n",
              "      filter: drop-shadow(0px 1px 2px rgba(0, 0, 0, 0.3));\n",
              "      fill: #FFFFFF;\n",
              "    }\n",
              "  </style>\n",
              "\n",
              "      <script>\n",
              "        const buttonEl =\n",
              "          document.querySelector('#df-9d4e0686-513f-431f-9609-319eafbd2f8e button.colab-df-convert');\n",
              "        buttonEl.style.display =\n",
              "          google.colab.kernel.accessAllowed ? 'block' : 'none';\n",
              "\n",
              "        async function convertToInteractive(key) {\n",
              "          const element = document.querySelector('#df-9d4e0686-513f-431f-9609-319eafbd2f8e');\n",
              "          const dataTable =\n",
              "            await google.colab.kernel.invokeFunction('convertToInteractive',\n",
              "                                                     [key], {});\n",
              "          if (!dataTable) return;\n",
              "\n",
              "          const docLinkHtml = 'Like what you see? Visit the ' +\n",
              "            '<a target=\"_blank\" href=https://colab.research.google.com/notebooks/data_table.ipynb>data table notebook</a>'\n",
              "            + ' to learn more about interactive tables.';\n",
              "          element.innerHTML = '';\n",
              "          dataTable['output_type'] = 'display_data';\n",
              "          await google.colab.output.renderOutput(dataTable, element);\n",
              "          const docLink = document.createElement('div');\n",
              "          docLink.innerHTML = docLinkHtml;\n",
              "          element.appendChild(docLink);\n",
              "        }\n",
              "      </script>\n",
              "    </div>\n",
              "  </div>\n",
              "  "
            ]
          },
          "metadata": {},
          "execution_count": 78
        }
      ]
    },
    {
      "cell_type": "markdown",
      "source": [
        "Dari hasil diatas, dapat terlihat nilai statistika deskriptif dari data. Jumlah data yang digunakan sebanyak 1220 data, dengan rata-rata (mean) dapat terlihat pada hasil diatas. Pada data diatas, dapat terlihat bahwa terdapat jarak yang cukup besar antara nilai minimum dan maksimum. Terlihat bahwa terdapat perbedaan satuan pengukuran pada data, sehingga pada proses Analisis Regresi akan dilakukan *data scale*. "
      ],
      "metadata": {
        "id": "oa-_D0Qg59d7"
      }
    },
    {
      "cell_type": "code",
      "source": [
        "# HeatMap untuk menyelidiki korelasi\n",
        "import matplotlib.pyplot as plt\n",
        "import seaborn as sns\n",
        "corr2 = datnum_1.corr() # We already examined SalePrice correlations\n",
        "plt.figure(figsize=(12, 10))\n",
        "sns.heatmap(corr2[(corr2 >= 0.5) | (corr2 <= -0.4)],\n",
        "cmap='viridis', vmax=1.0, vmin=-1.0, linewidths=0.1,\n",
        "annot=True, annot_kws={\"size\": 14}, square=True);"
      ],
      "metadata": {
        "colab": {
          "base_uri": "https://localhost:8080/",
          "height": 676
        },
        "id": "ZSDWXT8t2pc2",
        "outputId": "05a1d370-ef1d-4808-bbd8-004825781f0a"
      },
      "execution_count": null,
      "outputs": [
        {
          "output_type": "display_data",
          "data": {
            "text/plain": [
              "<Figure size 864x720 with 2 Axes>"
            ],
            "image/png": "[encoded data removed]"
          },
          "metadata": {
            "needs_background": "light"
          }
        }
      ]
    },
    {
      "cell_type": "markdown",
      "source": [
        "Dari Visualisasi diatas, didapatkan beberapa poin hubungan linier yaitu: \n",
        "1. Untuk Variabel Penjelas \n",
        "Dari hasil diatas dapat terlihat hubungan linier pada variabel penjelas tidak terlalu signifikan. Hal ini dapat terlihat dari hubungan beberapa variabel tersebut yang memiliki nilai korelasi yang cukup kecil dengan kotak bewarna putih. Korelasi linier dari variabel **cloud_coverage** dan **wind_speed** cukup tinggi dengan nilai 0,69. Namun, dari hasil ini dapat diindikasikan tidak terdapat pelanggaran asumsi multikolonearitas pada data. \n",
        "\n",
        "2. Untuk Variabel Penjelas dan Variabel Target (**meter_reading**)\n",
        "Dari hasil diatas dapat terlihat hubungan linier terbesar antara **square_feet** dan **meter_reading**. Dari hal ini, didapatkan bahwa semakin tinggi luas tanah (**square_feet**), maka ada kecenderungan konsumsi energi yang digunakan oleh gedung tersebut (**meter_reading**) semakin meningkat. Selain itu, untuk variabel lainnya bukan bearti tidak terdapat hubungan, hanya saja mungkin hubungan yang didapat bukan merupakan hubungan linier."
      ],
      "metadata": {
        "id": "1uiTpKCV3jJc"
      }
    },
    {
      "cell_type": "markdown",
      "source": [
        "# Korelasi dan Regresi"
      ],
      "metadata": {
        "id": "Lzf3o4orC-TD"
      }
    },
    {
      "cell_type": "markdown",
      "source": [
        "Pada proses korelasi dan regresi, variabel Wind_Direction akan dihilangkan dari proses ini. Hal ini disebabkan tidak terdapat data kearah mana gedung menghadap, sehingga sulit untuk dijelaskan pengaruh dari arah angin terhadap gedung. Berikut adalah proses dari korelasi dan regresi. "
      ],
      "metadata": {
        "id": "SFQzHxhkEk_r"
      }
    },
    {
      "cell_type": "code",
      "source": [
        "df = pd.read_csv('https://raw.githubusercontent.com/taudataid/eLearning/master/data/Ashrae_Energy_Mean.csv')\n",
        "df.drop(\"year_built\", axis=1, inplace=True)\n",
        "df.drop(\"floor_count\", axis=1, inplace=True)\n",
        "df.drop(\"wind_direction\", axis=1, inplace=True)\n",
        "df.dropna(inplace=True)\n",
        "df.info()"
      ],
      "metadata": {
        "colab": {
          "base_uri": "https://localhost:8080/"
        },
        "id": "tQOBLLJFDCCF",
        "outputId": "7b9d54d9-633e-42eb-b31e-022551990ff7"
      },
      "execution_count": null,
      "outputs": [
        {
          "output_type": "stream",
          "name": "stdout",
          "text": [
            "<class 'pandas.core.frame.DataFrame'>\n",
            "Int64Index: 1220 entries, 0 to 1412\n",
            "Data columns (total 9 columns):\n",
            " #   Column              Non-Null Count  Dtype  \n",
            "---  ------              --------------  -----  \n",
            " 0   meter_reading       1220 non-null   float64\n",
            " 1   primary_use         1220 non-null   object \n",
            " 2   square_feet         1220 non-null   int64  \n",
            " 3   air_temperature     1220 non-null   float64\n",
            " 4   cloud_coverage      1220 non-null   float64\n",
            " 5   dew_temperature     1220 non-null   float64\n",
            " 6   precip_depth_1_hr   1220 non-null   float64\n",
            " 7   sea_level_pressure  1220 non-null   float64\n",
            " 8   wind_speed          1220 non-null   float64\n",
            "dtypes: float64(7), int64(1), object(1)\n",
            "memory usage: 95.3+ KB\n"
          ]
        }
      ]
    },
    {
      "cell_type": "code",
      "source": [
        "import warnings; warnings.simplefilter('ignore')\n",
        "import pandas as pd, seaborn as sns, matplotlib.pyplot as plt, numpy as np\n",
        "plt.style.use('bmh'); sns.set()\n",
        "dfnum1 = df.drop([\"primary_use\"], axis=1)\n",
        "dfnum1.head()"
      ],
      "metadata": {
        "colab": {
          "base_uri": "https://localhost:8080/",
          "height": 206
        },
        "id": "414KFSX8DlR-",
        "outputId": "f97519aa-ba87-4be2-c3a5-57990ab3c8cc"
      },
      "execution_count": null,
      "outputs": [
        {
          "output_type": "execute_result",
          "data": {
            "text/plain": [
              "   meter_reading  square_feet  air_temperature  cloud_coverage  \\\n",
              "0     237.749127         7432        22.744816        2.998727   \n",
              "1     118.553743         2720        22.744816        2.998727   \n",
              "2      23.626500         5376        22.744816        2.998727   \n",
              "3     382.736016        23685        22.744816        2.998727   \n",
              "4    1579.174237       116607        22.744816        2.998727   \n",
              "\n",
              "   dew_temperature  precip_depth_1_hr  sea_level_pressure  wind_speed  \n",
              "0        17.379328           1.240589         1017.949437    3.391472  \n",
              "1        17.379328           1.240589         1017.949437    3.391472  \n",
              "2        17.379328           1.240589         1017.949437    3.391472  \n",
              "3        17.379328           1.240589         1017.949437    3.391472  \n",
              "4        17.379328           1.240589         1017.949437    3.391472  "
            ],
            "text/html": [
              "\n",
              "  <div id=\"df-6050ce51-88b8-49e1-ac52-1b1f34a703cb\">\n",
              "    <div class=\"colab-df-container\">\n",
              "      <div>\n",
              "<style scoped>\n",
              "    .dataframe tbody tr th:only-of-type {\n",
              "        vertical-align: middle;\n",
              "    }\n",
              "\n",
              "    .dataframe tbody tr th {\n",
              "        vertical-align: top;\n",
              "    }\n",
              "\n",
              "    .dataframe thead th {\n",
              "        text-align: right;\n",
              "    }\n",
              "</style>\n",
              "<table border=\"1\" class=\"dataframe\">\n",
              "  <thead>\n",
              "    <tr style=\"text-align: right;\">\n",
              "      <th></th>\n",
              "      <th>meter_reading</th>\n",
              "      <th>square_feet</th>\n",
              "      <th>air_temperature</th>\n",
              "      <th>cloud_coverage</th>\n",
              "      <th>dew_temperature</th>\n",
              "      <th>precip_depth_1_hr</th>\n",
              "      <th>sea_level_pressure</th>\n",
              "      <th>wind_speed</th>\n",
              "    </tr>\n",
              "  </thead>\n",
              "  <tbody>\n",
              "    <tr>\n",
              "      <th>0</th>\n",
              "      <td>237.749127</td>\n",
              "      <td>7432</td>\n",
              "      <td>22.744816</td>\n",
              "      <td>2.998727</td>\n",
              "      <td>17.379328</td>\n",
              "      <td>1.240589</td>\n",
              "      <td>1017.949437</td>\n",
              "      <td>3.391472</td>\n",
              "    </tr>\n",
              "    <tr>\n",
              "      <th>1</th>\n",
              "      <td>118.553743</td>\n",
              "      <td>2720</td>\n",
              "      <td>22.744816</td>\n",
              "      <td>2.998727</td>\n",
              "      <td>17.379328</td>\n",
              "      <td>1.240589</td>\n",
              "      <td>1017.949437</td>\n",
              "      <td>3.391472</td>\n",
              "    </tr>\n",
              "    <tr>\n",
              "      <th>2</th>\n",
              "      <td>23.626500</td>\n",
              "      <td>5376</td>\n",
              "      <td>22.744816</td>\n",
              "      <td>2.998727</td>\n",
              "      <td>17.379328</td>\n",
              "      <td>1.240589</td>\n",
              "      <td>1017.949437</td>\n",
              "      <td>3.391472</td>\n",
              "    </tr>\n",
              "    <tr>\n",
              "      <th>3</th>\n",
              "      <td>382.736016</td>\n",
              "      <td>23685</td>\n",
              "      <td>22.744816</td>\n",
              "      <td>2.998727</td>\n",
              "      <td>17.379328</td>\n",
              "      <td>1.240589</td>\n",
              "      <td>1017.949437</td>\n",
              "      <td>3.391472</td>\n",
              "    </tr>\n",
              "    <tr>\n",
              "      <th>4</th>\n",
              "      <td>1579.174237</td>\n",
              "      <td>116607</td>\n",
              "      <td>22.744816</td>\n",
              "      <td>2.998727</td>\n",
              "      <td>17.379328</td>\n",
              "      <td>1.240589</td>\n",
              "      <td>1017.949437</td>\n",
              "      <td>3.391472</td>\n",
              "    </tr>\n",
              "  </tbody>\n",
              "</table>\n",
              "</div>\n",
              "      <button class=\"colab-df-convert\" onclick=\"convertToInteractive('df-6050ce51-88b8-49e1-ac52-1b1f34a703cb')\"\n",
              "              title=\"Convert this dataframe to an interactive table.\"\n",
              "              style=\"display:none;\">\n",
              "        \n",
              "  <svg xmlns=\"http://www.w3.org/2000/svg\" height=\"24px\"viewBox=\"0 0 24 24\"\n",
              "       width=\"24px\">\n",
              "    <path d=\"M0 0h24v24H0V0z\" fill=\"none\"/>\n",
              "    <path d=\"M18.56 5.44l.94 2.06.94-2.06 2.06-.94-2.06-.94-.94-2.06-.94 2.06-2.06.94zm-11 1L8.5 8.5l.94-2.06 2.06-.94-2.06-.94L8.5 2.5l-.94 2.06-2.06.94zm10 10l.94 2.06.94-2.06 2.06-.94-2.06-.94-.94-2.06-.94 2.06-2.06.94z\"/><path d=\"M17.41 7.96l-1.37-1.37c-.4-.4-.92-.59-1.43-.59-.52 0-1.04.2-1.43.59L10.3 9.45l-7.72 7.72c-.78.78-.78 2.05 0 2.83L4 21.41c.39.39.9.59 1.41.59.51 0 1.02-.2 1.41-.59l7.78-7.78 2.81-2.81c.8-.78.8-2.07 0-2.86zM5.41 20L4 18.59l7.72-7.72 1.47 1.35L5.41 20z\"/>\n",
              "  </svg>\n",
              "      </button>\n",
              "      \n",
              "  <style>\n",
              "    .colab-df-container {\n",
              "      display:flex;\n",
              "      flex-wrap:wrap;\n",
              "      gap: 12px;\n",
              "    }\n",
              "\n",
              "    .colab-df-convert {\n",
              "      background-color: #E8F0FE;\n",
              "      border: none;\n",
              "      border-radius: 50%;\n",
              "      cursor: pointer;\n",
              "      display: none;\n",
              "      fill: #1967D2;\n",
              "      height: 32px;\n",
              "      padding: 0 0 0 0;\n",
              "      width: 32px;\n",
              "    }\n",
              "\n",
              "    .colab-df-convert:hover {\n",
              "      background-color: #E2EBFA;\n",
              "      box-shadow: 0px 1px 2px rgba(60, 64, 67, 0.3), 0px 1px 3px 1px rgba(60, 64, 67, 0.15);\n",
              "      fill: #174EA6;\n",
              "    }\n",
              "\n",
              "    [theme=dark] .colab-df-convert {\n",
              "      background-color: #3B4455;\n",
              "      fill: #D2E3FC;\n",
              "    }\n",
              "\n",
              "    [theme=dark] .colab-df-convert:hover {\n",
              "      background-color: #434B5C;\n",
              "      box-shadow: 0px 1px 3px 1px rgba(0, 0, 0, 0.15);\n",
              "      filter: drop-shadow(0px 1px 2px rgba(0, 0, 0, 0.3));\n",
              "      fill: #FFFFFF;\n",
              "    }\n",
              "  </style>\n",
              "\n",
              "      <script>\n",
              "        const buttonEl =\n",
              "          document.querySelector('#df-6050ce51-88b8-49e1-ac52-1b1f34a703cb button.colab-df-convert');\n",
              "        buttonEl.style.display =\n",
              "          google.colab.kernel.accessAllowed ? 'block' : 'none';\n",
              "\n",
              "        async function convertToInteractive(key) {\n",
              "          const element = document.querySelector('#df-6050ce51-88b8-49e1-ac52-1b1f34a703cb');\n",
              "          const dataTable =\n",
              "            await google.colab.kernel.invokeFunction('convertToInteractive',\n",
              "                                                     [key], {});\n",
              "          if (!dataTable) return;\n",
              "\n",
              "          const docLinkHtml = 'Like what you see? Visit the ' +\n",
              "            '<a target=\"_blank\" href=https://colab.research.google.com/notebooks/data_table.ipynb>data table notebook</a>'\n",
              "            + ' to learn more about interactive tables.';\n",
              "          element.innerHTML = '';\n",
              "          dataTable['output_type'] = 'display_data';\n",
              "          await google.colab.output.renderOutput(dataTable, element);\n",
              "          const docLink = document.createElement('div');\n",
              "          docLink.innerHTML = docLinkHtml;\n",
              "          element.appendChild(docLink);\n",
              "        }\n",
              "      </script>\n",
              "    </div>\n",
              "  </div>\n",
              "  "
            ]
          },
          "metadata": {},
          "execution_count": 82
        }
      ]
    },
    {
      "cell_type": "code",
      "source": [
        "from sklearn.preprocessing import MinMaxScaler \n",
        "scaler = MinMaxScaler()\n",
        "dfnum1[['meter_reading','square_feet','air_temperature', 'cloud_coverage', 'dew_temperature', 'precip_depth_1_hr', 'sea_level_pressure', 'wind_speed']] = scaler.fit_transform(dfnum1[['meter_reading','square_feet','air_temperature', 'cloud_coverage', 'dew_temperature', 'precip_depth_1_hr', 'sea_level_pressure', 'wind_speed']]) \n",
        "dfnum1.head()\n",
        "df1 = pd.concat([dfnum1,df['primary_use']],axis=1)\n",
        "df1.head()"
      ],
      "metadata": {
        "colab": {
          "base_uri": "https://localhost:8080/",
          "height": 206
        },
        "id": "ywl2lsQWDoIp",
        "outputId": "09458202-97e5-492d-a1eb-6ff23bca47ee"
      },
      "execution_count": null,
      "outputs": [
        {
          "output_type": "execute_result",
          "data": {
            "text/plain": [
              "   meter_reading  square_feet  air_temperature  cloud_coverage  \\\n",
              "0       0.069245     0.008173         0.860312        0.711116   \n",
              "1       0.034502     0.002786         0.860312        0.711116   \n",
              "2       0.006833     0.005822         0.860312        0.711116   \n",
              "3       0.111505     0.026754         0.860312        0.711116   \n",
              "4       0.460240     0.132985         0.860312        0.711116   \n",
              "\n",
              "   dew_temperature  precip_depth_1_hr  sea_level_pressure  wind_speed  \\\n",
              "0              1.0           0.336358            0.984487    0.631302   \n",
              "1              1.0           0.336358            0.984487    0.631302   \n",
              "2              1.0           0.336358            0.984487    0.631302   \n",
              "3              1.0           0.336358            0.984487    0.631302   \n",
              "4              1.0           0.336358            0.984487    0.631302   \n",
              "\n",
              "  primary_use  \n",
              "0   Education  \n",
              "1   Education  \n",
              "2   Education  \n",
              "3   Education  \n",
              "4   Education  "
            ],
            "text/html": [
              "\n",
              "  <div id=\"df-d41cea00-6839-4772-b893-853d30627145\">\n",
              "    <div class=\"colab-df-container\">\n",
              "      <div>\n",
              "<style scoped>\n",
              "    .dataframe tbody tr th:only-of-type {\n",
              "        vertical-align: middle;\n",
              "    }\n",
              "\n",
              "    .dataframe tbody tr th {\n",
              "        vertical-align: top;\n",
              "    }\n",
              "\n",
              "    .dataframe thead th {\n",
              "        text-align: right;\n",
              "    }\n",
              "</style>\n",
              "<table border=\"1\" class=\"dataframe\">\n",
              "  <thead>\n",
              "    <tr style=\"text-align: right;\">\n",
              "      <th></th>\n",
              "      <th>meter_reading</th>\n",
              "      <th>square_feet</th>\n",
              "      <th>air_temperature</th>\n",
              "      <th>cloud_coverage</th>\n",
              "      <th>dew_temperature</th>\n",
              "      <th>precip_depth_1_hr</th>\n",
              "      <th>sea_level_pressure</th>\n",
              "      <th>wind_speed</th>\n",
              "      <th>primary_use</th>\n",
              "    </tr>\n",
              "  </thead>\n",
              "  <tbody>\n",
              "    <tr>\n",
              "      <th>0</th>\n",
              "      <td>0.069245</td>\n",
              "      <td>0.008173</td>\n",
              "      <td>0.860312</td>\n",
              "      <td>0.711116</td>\n",
              "      <td>1.0</td>\n",
              "      <td>0.336358</td>\n",
              "      <td>0.984487</td>\n",
              "      <td>0.631302</td>\n",
              "      <td>Education</td>\n",
              "    </tr>\n",
              "    <tr>\n",
              "      <th>1</th>\n",
              "      <td>0.034502</td>\n",
              "      <td>0.002786</td>\n",
              "      <td>0.860312</td>\n",
              "      <td>0.711116</td>\n",
              "      <td>1.0</td>\n",
              "      <td>0.336358</td>\n",
              "      <td>0.984487</td>\n",
              "      <td>0.631302</td>\n",
              "      <td>Education</td>\n",
              "    </tr>\n",
              "    <tr>\n",
              "      <th>2</th>\n",
              "      <td>0.006833</td>\n",
              "      <td>0.005822</td>\n",
              "      <td>0.860312</td>\n",
              "      <td>0.711116</td>\n",
              "      <td>1.0</td>\n",
              "      <td>0.336358</td>\n",
              "      <td>0.984487</td>\n",
              "      <td>0.631302</td>\n",
              "      <td>Education</td>\n",
              "    </tr>\n",
              "    <tr>\n",
              "      <th>3</th>\n",
              "      <td>0.111505</td>\n",
              "      <td>0.026754</td>\n",
              "      <td>0.860312</td>\n",
              "      <td>0.711116</td>\n",
              "      <td>1.0</td>\n",
              "      <td>0.336358</td>\n",
              "      <td>0.984487</td>\n",
              "      <td>0.631302</td>\n",
              "      <td>Education</td>\n",
              "    </tr>\n",
              "    <tr>\n",
              "      <th>4</th>\n",
              "      <td>0.460240</td>\n",
              "      <td>0.132985</td>\n",
              "      <td>0.860312</td>\n",
              "      <td>0.711116</td>\n",
              "      <td>1.0</td>\n",
              "      <td>0.336358</td>\n",
              "      <td>0.984487</td>\n",
              "      <td>0.631302</td>\n",
              "      <td>Education</td>\n",
              "    </tr>\n",
              "  </tbody>\n",
              "</table>\n",
              "</div>\n",
              "      <button class=\"colab-df-convert\" onclick=\"convertToInteractive('df-d41cea00-6839-4772-b893-853d30627145')\"\n",
              "              title=\"Convert this dataframe to an interactive table.\"\n",
              "              style=\"display:none;\">\n",
              "        \n",
              "  <svg xmlns=\"http://www.w3.org/2000/svg\" height=\"24px\"viewBox=\"0 0 24 24\"\n",
              "       width=\"24px\">\n",
              "    <path d=\"M0 0h24v24H0V0z\" fill=\"none\"/>\n",
              "    <path d=\"M18.56 5.44l.94 2.06.94-2.06 2.06-.94-2.06-.94-.94-2.06-.94 2.06-2.06.94zm-11 1L8.5 8.5l.94-2.06 2.06-.94-2.06-.94L8.5 2.5l-.94 2.06-2.06.94zm10 10l.94 2.06.94-2.06 2.06-.94-2.06-.94-.94-2.06-.94 2.06-2.06.94z\"/><path d=\"M17.41 7.96l-1.37-1.37c-.4-.4-.92-.59-1.43-.59-.52 0-1.04.2-1.43.59L10.3 9.45l-7.72 7.72c-.78.78-.78 2.05 0 2.83L4 21.41c.39.39.9.59 1.41.59.51 0 1.02-.2 1.41-.59l7.78-7.78 2.81-2.81c.8-.78.8-2.07 0-2.86zM5.41 20L4 18.59l7.72-7.72 1.47 1.35L5.41 20z\"/>\n",
              "  </svg>\n",
              "      </button>\n",
              "      \n",
              "  <style>\n",
              "    .colab-df-container {\n",
              "      display:flex;\n",
              "      flex-wrap:wrap;\n",
              "      gap: 12px;\n",
              "    }\n",
              "\n",
              "    .colab-df-convert {\n",
              "      background-color: #E8F0FE;\n",
              "      border: none;\n",
              "      border-radius: 50%;\n",
              "      cursor: pointer;\n",
              "      display: none;\n",
              "      fill: #1967D2;\n",
              "      height: 32px;\n",
              "      padding: 0 0 0 0;\n",
              "      width: 32px;\n",
              "    }\n",
              "\n",
              "    .colab-df-convert:hover {\n",
              "      background-color: #E2EBFA;\n",
              "      box-shadow: 0px 1px 2px rgba(60, 64, 67, 0.3), 0px 1px 3px 1px rgba(60, 64, 67, 0.15);\n",
              "      fill: #174EA6;\n",
              "    }\n",
              "\n",
              "    [theme=dark] .colab-df-convert {\n",
              "      background-color: #3B4455;\n",
              "      fill: #D2E3FC;\n",
              "    }\n",
              "\n",
              "    [theme=dark] .colab-df-convert:hover {\n",
              "      background-color: #434B5C;\n",
              "      box-shadow: 0px 1px 3px 1px rgba(0, 0, 0, 0.15);\n",
              "      filter: drop-shadow(0px 1px 2px rgba(0, 0, 0, 0.3));\n",
              "      fill: #FFFFFF;\n",
              "    }\n",
              "  </style>\n",
              "\n",
              "      <script>\n",
              "        const buttonEl =\n",
              "          document.querySelector('#df-d41cea00-6839-4772-b893-853d30627145 button.colab-df-convert');\n",
              "        buttonEl.style.display =\n",
              "          google.colab.kernel.accessAllowed ? 'block' : 'none';\n",
              "\n",
              "        async function convertToInteractive(key) {\n",
              "          const element = document.querySelector('#df-d41cea00-6839-4772-b893-853d30627145');\n",
              "          const dataTable =\n",
              "            await google.colab.kernel.invokeFunction('convertToInteractive',\n",
              "                                                     [key], {});\n",
              "          if (!dataTable) return;\n",
              "\n",
              "          const docLinkHtml = 'Like what you see? Visit the ' +\n",
              "            '<a target=\"_blank\" href=https://colab.research.google.com/notebooks/data_table.ipynb>data table notebook</a>'\n",
              "            + ' to learn more about interactive tables.';\n",
              "          element.innerHTML = '';\n",
              "          dataTable['output_type'] = 'display_data';\n",
              "          await google.colab.output.renderOutput(dataTable, element);\n",
              "          const docLink = document.createElement('div');\n",
              "          docLink.innerHTML = docLinkHtml;\n",
              "          element.appendChild(docLink);\n",
              "        }\n",
              "      </script>\n",
              "    </div>\n",
              "  </div>\n",
              "  "
            ]
          },
          "metadata": {},
          "execution_count": 84
        }
      ]
    },
    {
      "cell_type": "code",
      "source": [
        "import statsmodels.formula.api as smf\n",
        "from statsmodels.formula.api import ols\n",
        "import statsmodels.api as sm, scipy.stats as stats\n",
        "from statsmodels.graphics.gofplots import qqplot\n",
        "from matplotlib import pyplot\n",
        "# q-q plot\n",
        "qqplot(df1['meter_reading'], line='s')\n",
        "pyplot.show()"
      ],
      "metadata": {
        "colab": {
          "base_uri": "https://localhost:8080/",
          "height": 285
        },
        "id": "ruY2IbwHDzmv",
        "outputId": "908e60e7-a6b2-4fb4-b9cd-2aad237ff698"
      },
      "execution_count": null,
      "outputs": [
        {
          "output_type": "display_data",
          "data": {
            "text/plain": [
              "<Figure size 432x288 with 1 Axes>"
            ],
            "image/png": "[encoded data removed]"
          },
          "metadata": {}
        }
      ]
    },
    {
      "cell_type": "markdown",
      "source": [
        "Dari visualisasi diatas, dapat terlihat bahwa nilai yang terdapat meter_reading, teindikasi memiliki *outlier*. Hal ini dapat berdampak pada ketidak-akuratan dari model. *Outlier* ini dapat dimodelkan dengan model yang lain, dimana tidak digabungkan pemodelan dari data *outlier* dengan data sisanya. \n",
        "\n",
        "Namun, pada kasus ini hanya akan dilakukan regresi (pemodelan) untuk data non-*outlier*. Hal ini dipilih karena keterbatasan waktu untuk memodelkan data. Berikut adalah data tanpa *outlier* yang akan dilakukan pemodelan regresi."
      ],
      "metadata": {
        "id": "oBOdOBjFFEtj"
      }
    },
    {
      "cell_type": "code",
      "source": [
        "import numpy as np\n",
        "ilangin_outlier = np.abs(df1.meter_reading - df1.meter_reading.mean())<=(2*df1.meter_reading.std())\n",
        "df_2=df1[ilangin_outlier]\n",
        "df_2"
      ],
      "metadata": {
        "colab": {
          "base_uri": "https://localhost:8080/",
          "height": 468
        },
        "id": "klDQjH_5D5J6",
        "outputId": "26bb27bd-96f9-447f-ddf7-30147cf7e6a7"
      },
      "execution_count": null,
      "outputs": [
        {
          "output_type": "execute_result",
          "data": {
            "text/plain": [
              "      meter_reading  square_feet  air_temperature  cloud_coverage  \\\n",
              "0          0.069245     0.008173         0.860312        0.711116   \n",
              "1          0.034502     0.002786         0.860312        0.711116   \n",
              "2          0.006833     0.005822         0.860312        0.711116   \n",
              "3          0.111505     0.026754         0.860312        0.711116   \n",
              "5          0.008388     0.008822         0.860312        0.711116   \n",
              "...             ...          ...              ...             ...   \n",
              "1408       0.002128     0.022105         0.000000        0.201360   \n",
              "1409       0.001326     0.004590         0.000000        0.201360   \n",
              "1410       0.002048     0.012555         0.000000        0.201360   \n",
              "1411       0.054487     0.033716         0.000000        0.201360   \n",
              "1412       0.000919     0.105163         0.000000        0.201360   \n",
              "\n",
              "      dew_temperature  precip_depth_1_hr  sea_level_pressure  wind_speed  \\\n",
              "0            1.000000           0.336358            0.984487    0.631302   \n",
              "1            1.000000           0.336358            0.984487    0.631302   \n",
              "2            1.000000           0.336358            0.984487    0.631302   \n",
              "3            1.000000           0.336358            0.984487    0.631302   \n",
              "5            1.000000           0.336358            0.984487    0.631302   \n",
              "...               ...                ...                 ...         ...   \n",
              "1408         0.272421           1.000000            0.870009    0.747948   \n",
              "1409         0.272421           1.000000            0.870009    0.747948   \n",
              "1410         0.272421           1.000000            0.870009    0.747948   \n",
              "1411         0.272421           1.000000            0.870009    0.747948   \n",
              "1412         0.272421           1.000000            0.870009    0.747948   \n",
              "\n",
              "                        primary_use  \n",
              "0                         Education  \n",
              "1                         Education  \n",
              "2                         Education  \n",
              "3                         Education  \n",
              "5                         Education  \n",
              "...                             ...  \n",
              "1408  Entertainment/public assembly  \n",
              "1409                      Education  \n",
              "1410  Entertainment/public assembly  \n",
              "1411            Lodging/residential  \n",
              "1412                         Office  \n",
              "\n",
              "[1169 rows x 9 columns]"
            ],
            "text/html": [
              "\n",
              "  <div id=\"df-7393a43a-417b-468f-a633-004e271b1e7f\">\n",
              "    <div class=\"colab-df-container\">\n",
              "      <div>\n",
              "<style scoped>\n",
              "    .dataframe tbody tr th:only-of-type {\n",
              "        vertical-align: middle;\n",
              "    }\n",
              "\n",
              "    .dataframe tbody tr th {\n",
              "        vertical-align: top;\n",
              "    }\n",
              "\n",
              "    .dataframe thead th {\n",
              "        text-align: right;\n",
              "    }\n",
              "</style>\n",
              "<table border=\"1\" class=\"dataframe\">\n",
              "  <thead>\n",
              "    <tr style=\"text-align: right;\">\n",
              "      <th></th>\n",
              "      <th>meter_reading</th>\n",
              "      <th>square_feet</th>\n",
              "      <th>air_temperature</th>\n",
              "      <th>cloud_coverage</th>\n",
              "      <th>dew_temperature</th>\n",
              "      <th>precip_depth_1_hr</th>\n",
              "      <th>sea_level_pressure</th>\n",
              "      <th>wind_speed</th>\n",
              "      <th>primary_use</th>\n",
              "    </tr>\n",
              "  </thead>\n",
              "  <tbody>\n",
              "    <tr>\n",
              "      <th>0</th>\n",
              "      <td>0.069245</td>\n",
              "      <td>0.008173</td>\n",
              "      <td>0.860312</td>\n",
              "      <td>0.711116</td>\n",
              "      <td>1.000000</td>\n",
              "      <td>0.336358</td>\n",
              "      <td>0.984487</td>\n",
              "      <td>0.631302</td>\n",
              "      <td>Education</td>\n",
              "    </tr>\n",
              "    <tr>\n",
              "      <th>1</th>\n",
              "      <td>0.034502</td>\n",
              "      <td>0.002786</td>\n",
              "      <td>0.860312</td>\n",
              "      <td>0.711116</td>\n",
              "      <td>1.000000</td>\n",
              "      <td>0.336358</td>\n",
              "      <td>0.984487</td>\n",
              "      <td>0.631302</td>\n",
              "      <td>Education</td>\n",
              "    </tr>\n",
              "    <tr>\n",
              "      <th>2</th>\n",
              "      <td>0.006833</td>\n",
              "      <td>0.005822</td>\n",
              "      <td>0.860312</td>\n",
              "      <td>0.711116</td>\n",
              "      <td>1.000000</td>\n",
              "      <td>0.336358</td>\n",
              "      <td>0.984487</td>\n",
              "      <td>0.631302</td>\n",
              "      <td>Education</td>\n",
              "    </tr>\n",
              "    <tr>\n",
              "      <th>3</th>\n",
              "      <td>0.111505</td>\n",
              "      <td>0.026754</td>\n",
              "      <td>0.860312</td>\n",
              "      <td>0.711116</td>\n",
              "      <td>1.000000</td>\n",
              "      <td>0.336358</td>\n",
              "      <td>0.984487</td>\n",
              "      <td>0.631302</td>\n",
              "      <td>Education</td>\n",
              "    </tr>\n",
              "    <tr>\n",
              "      <th>5</th>\n",
              "      <td>0.008388</td>\n",
              "      <td>0.008822</td>\n",
              "      <td>0.860312</td>\n",
              "      <td>0.711116</td>\n",
              "      <td>1.000000</td>\n",
              "      <td>0.336358</td>\n",
              "      <td>0.984487</td>\n",
              "      <td>0.631302</td>\n",
              "      <td>Education</td>\n",
              "    </tr>\n",
              "    <tr>\n",
              "      <th>...</th>\n",
              "      <td>...</td>\n",
              "      <td>...</td>\n",
              "      <td>...</td>\n",
              "      <td>...</td>\n",
              "      <td>...</td>\n",
              "      <td>...</td>\n",
              "      <td>...</td>\n",
              "      <td>...</td>\n",
              "      <td>...</td>\n",
              "    </tr>\n",
              "    <tr>\n",
              "      <th>1408</th>\n",
              "      <td>0.002128</td>\n",
              "      <td>0.022105</td>\n",
              "      <td>0.000000</td>\n",
              "      <td>0.201360</td>\n",
              "      <td>0.272421</td>\n",
              "      <td>1.000000</td>\n",
              "      <td>0.870009</td>\n",
              "      <td>0.747948</td>\n",
              "      <td>Entertainment/public assembly</td>\n",
              "    </tr>\n",
              "    <tr>\n",
              "      <th>1409</th>\n",
              "      <td>0.001326</td>\n",
              "      <td>0.004590</td>\n",
              "      <td>0.000000</td>\n",
              "      <td>0.201360</td>\n",
              "      <td>0.272421</td>\n",
              "      <td>1.000000</td>\n",
              "      <td>0.870009</td>\n",
              "      <td>0.747948</td>\n",
              "      <td>Education</td>\n",
              "    </tr>\n",
              "    <tr>\n",
              "      <th>1410</th>\n",
              "      <td>0.002048</td>\n",
              "      <td>0.012555</td>\n",
              "      <td>0.000000</td>\n",
              "      <td>0.201360</td>\n",
              "      <td>0.272421</td>\n",
              "      <td>1.000000</td>\n",
              "      <td>0.870009</td>\n",
              "      <td>0.747948</td>\n",
              "      <td>Entertainment/public assembly</td>\n",
              "    </tr>\n",
              "    <tr>\n",
              "      <th>1411</th>\n",
              "      <td>0.054487</td>\n",
              "      <td>0.033716</td>\n",
              "      <td>0.000000</td>\n",
              "      <td>0.201360</td>\n",
              "      <td>0.272421</td>\n",
              "      <td>1.000000</td>\n",
              "      <td>0.870009</td>\n",
              "      <td>0.747948</td>\n",
              "      <td>Lodging/residential</td>\n",
              "    </tr>\n",
              "    <tr>\n",
              "      <th>1412</th>\n",
              "      <td>0.000919</td>\n",
              "      <td>0.105163</td>\n",
              "      <td>0.000000</td>\n",
              "      <td>0.201360</td>\n",
              "      <td>0.272421</td>\n",
              "      <td>1.000000</td>\n",
              "      <td>0.870009</td>\n",
              "      <td>0.747948</td>\n",
              "      <td>Office</td>\n",
              "    </tr>\n",
              "  </tbody>\n",
              "</table>\n",
              "<p>1169 rows × 9 columns</p>\n",
              "</div>\n",
              "      <button class=\"colab-df-convert\" onclick=\"convertToInteractive('df-7393a43a-417b-468f-a633-004e271b1e7f')\"\n",
              "              title=\"Convert this dataframe to an interactive table.\"\n",
              "              style=\"display:none;\">\n",
              "        \n",
              "  <svg xmlns=\"http://www.w3.org/2000/svg\" height=\"24px\"viewBox=\"0 0 24 24\"\n",
              "       width=\"24px\">\n",
              "    <path d=\"M0 0h24v24H0V0z\" fill=\"none\"/>\n",
              "    <path d=\"M18.56 5.44l.94 2.06.94-2.06 2.06-.94-2.06-.94-.94-2.06-.94 2.06-2.06.94zm-11 1L8.5 8.5l.94-2.06 2.06-.94-2.06-.94L8.5 2.5l-.94 2.06-2.06.94zm10 10l.94 2.06.94-2.06 2.06-.94-2.06-.94-.94-2.06-.94 2.06-2.06.94z\"/><path d=\"M17.41 7.96l-1.37-1.37c-.4-.4-.92-.59-1.43-.59-.52 0-1.04.2-1.43.59L10.3 9.45l-7.72 7.72c-.78.78-.78 2.05 0 2.83L4 21.41c.39.39.9.59 1.41.59.51 0 1.02-.2 1.41-.59l7.78-7.78 2.81-2.81c.8-.78.8-2.07 0-2.86zM5.41 20L4 18.59l7.72-7.72 1.47 1.35L5.41 20z\"/>\n",
              "  </svg>\n",
              "      </button>\n",
              "      \n",
              "  <style>\n",
              "    .colab-df-container {\n",
              "      display:flex;\n",
              "      flex-wrap:wrap;\n",
              "      gap: 12px;\n",
              "    }\n",
              "\n",
              "    .colab-df-convert {\n",
              "      background-color: #E8F0FE;\n",
              "      border: none;\n",
              "      border-radius: 50%;\n",
              "      cursor: pointer;\n",
              "      display: none;\n",
              "      fill: #1967D2;\n",
              "      height: 32px;\n",
              "      padding: 0 0 0 0;\n",
              "      width: 32px;\n",
              "    }\n",
              "\n",
              "    .colab-df-convert:hover {\n",
              "      background-color: #E2EBFA;\n",
              "      box-shadow: 0px 1px 2px rgba(60, 64, 67, 0.3), 0px 1px 3px 1px rgba(60, 64, 67, 0.15);\n",
              "      fill: #174EA6;\n",
              "    }\n",
              "\n",
              "    [theme=dark] .colab-df-convert {\n",
              "      background-color: #3B4455;\n",
              "      fill: #D2E3FC;\n",
              "    }\n",
              "\n",
              "    [theme=dark] .colab-df-convert:hover {\n",
              "      background-color: #434B5C;\n",
              "      box-shadow: 0px 1px 3px 1px rgba(0, 0, 0, 0.15);\n",
              "      filter: drop-shadow(0px 1px 2px rgba(0, 0, 0, 0.3));\n",
              "      fill: #FFFFFF;\n",
              "    }\n",
              "  </style>\n",
              "\n",
              "      <script>\n",
              "        const buttonEl =\n",
              "          document.querySelector('#df-7393a43a-417b-468f-a633-004e271b1e7f button.colab-df-convert');\n",
              "        buttonEl.style.display =\n",
              "          google.colab.kernel.accessAllowed ? 'block' : 'none';\n",
              "\n",
              "        async function convertToInteractive(key) {\n",
              "          const element = document.querySelector('#df-7393a43a-417b-468f-a633-004e271b1e7f');\n",
              "          const dataTable =\n",
              "            await google.colab.kernel.invokeFunction('convertToInteractive',\n",
              "                                                     [key], {});\n",
              "          if (!dataTable) return;\n",
              "\n",
              "          const docLinkHtml = 'Like what you see? Visit the ' +\n",
              "            '<a target=\"_blank\" href=https://colab.research.google.com/notebooks/data_table.ipynb>data table notebook</a>'\n",
              "            + ' to learn more about interactive tables.';\n",
              "          element.innerHTML = '';\n",
              "          dataTable['output_type'] = 'display_data';\n",
              "          await google.colab.output.renderOutput(dataTable, element);\n",
              "          const docLink = document.createElement('div');\n",
              "          docLink.innerHTML = docLinkHtml;\n",
              "          element.appendChild(docLink);\n",
              "        }\n",
              "      </script>\n",
              "    </div>\n",
              "  </div>\n",
              "  "
            ]
          },
          "metadata": {},
          "execution_count": 86
        }
      ]
    },
    {
      "cell_type": "code",
      "source": [
        "# q-q plot\n",
        "qqplot(df_2['meter_reading'], line='s')\n",
        "pyplot.show()"
      ],
      "metadata": {
        "colab": {
          "base_uri": "https://localhost:8080/",
          "height": 285
        },
        "id": "c9yeptRbEAud",
        "outputId": "4b2aaca3-0859-45ab-a287-5e5f84ab9f87"
      },
      "execution_count": null,
      "outputs": [
        {
          "output_type": "display_data",
          "data": {
            "text/plain": [
              "<Figure size 432x288 with 1 Axes>"
            ],
            "image/png": "[encoded data removed]"
          },
          "metadata": {}
        }
      ]
    },
    {
      "cell_type": "code",
      "source": [
        "m = ols('meter_reading ~ square_feet + air_temperature + cloud_coverage + dew_temperature + precip_depth_1_hr + sea_level_pressure + wind_speed', df_2).fit()\n",
        "print(m.summary())"
      ],
      "metadata": {
        "colab": {
          "base_uri": "https://localhost:8080/"
        },
        "id": "jRSDKGwqEJ2b",
        "outputId": "e3a02b1a-e4c1-4a4e-82af-6af720262611"
      },
      "execution_count": null,
      "outputs": [
        {
          "output_type": "stream",
          "name": "stdout",
          "text": [
            "                            OLS Regression Results                            \n",
            "==============================================================================\n",
            "Dep. Variable:          meter_reading   R-squared:                       0.325\n",
            "Model:                            OLS   Adj. R-squared:                  0.321\n",
            "Method:                 Least Squares   F-statistic:                     79.83\n",
            "Date:                Fri, 18 Nov 2022   Prob (F-statistic):           1.29e-94\n",
            "Time:                        09:27:37   Log-Likelihood:                 2235.4\n",
            "No. Observations:                1169   AIC:                            -4455.\n",
            "Df Residuals:                    1161   BIC:                            -4414.\n",
            "Df Model:                           7                                         \n",
            "Covariance Type:            nonrobust                                         \n",
            "======================================================================================\n",
            "                         coef    std err          t      P>|t|      [0.025      0.975]\n",
            "--------------------------------------------------------------------------------------\n",
            "Intercept             -0.0043      0.016     -0.268      0.789      -0.036       0.027\n",
            "square_feet            0.2323      0.010     22.747      0.000       0.212       0.252\n",
            "air_temperature        0.0112      0.021      0.534      0.593      -0.030       0.052\n",
            "cloud_coverage        -0.0179      0.012     -1.489      0.137      -0.042       0.006\n",
            "dew_temperature        0.0129      0.019      0.676      0.499      -0.025       0.050\n",
            "precip_depth_1_hr     -0.0011      0.005     -0.203      0.839      -0.011       0.009\n",
            "sea_level_pressure     0.0054      0.018      0.293      0.770      -0.031       0.041\n",
            "wind_speed             0.0220      0.013      1.730      0.084      -0.003       0.047\n",
            "==============================================================================\n",
            "Omnibus:                      316.894   Durbin-Watson:                   1.552\n",
            "Prob(Omnibus):                  0.000   Jarque-Bera (JB):             1256.472\n",
            "Skew:                           1.246   Prob(JB):                    1.45e-273\n",
            "Kurtosis:                       7.425   Cond. No.                         64.3\n",
            "==============================================================================\n",
            "\n",
            "Notes:\n",
            "[1] Standard Errors assume that the covariance matrix of the errors is correctly specified.\n"
          ]
        }
      ]
    },
    {
      "cell_type": "code",
      "source": [
        "m1 = ols('meter_reading ~ square_feet', df_2).fit()\n",
        "print(m1.summary())"
      ],
      "metadata": {
        "colab": {
          "base_uri": "https://localhost:8080/"
        },
        "id": "jVLCoJmVELf7",
        "outputId": "5e290b0b-b199-463c-b357-22299d38f3ca"
      },
      "execution_count": null,
      "outputs": [
        {
          "output_type": "stream",
          "name": "stdout",
          "text": [
            "                            OLS Regression Results                            \n",
            "==============================================================================\n",
            "Dep. Variable:          meter_reading   R-squared:                       0.314\n",
            "Model:                            OLS   Adj. R-squared:                  0.313\n",
            "Method:                 Least Squares   F-statistic:                     533.1\n",
            "Date:                Fri, 18 Nov 2022   Prob (F-statistic):           1.87e-97\n",
            "Time:                        09:28:20   Log-Likelihood:                 2225.7\n",
            "No. Observations:                1169   AIC:                            -4447.\n",
            "Df Residuals:                    1167   BIC:                            -4437.\n",
            "Df Model:                           1                                         \n",
            "Covariance Type:            nonrobust                                         \n",
            "===============================================================================\n",
            "                  coef    std err          t      P>|t|      [0.025      0.975]\n",
            "-------------------------------------------------------------------------------\n",
            "Intercept       0.0161      0.001     11.304      0.000       0.013       0.019\n",
            "square_feet     0.2287      0.010     23.089      0.000       0.209       0.248\n",
            "==============================================================================\n",
            "Omnibus:                      341.544   Durbin-Watson:                   1.529\n",
            "Prob(Omnibus):                  0.000   Jarque-Bera (JB):             1318.422\n",
            "Skew:                           1.360   Prob(JB):                    5.11e-287\n",
            "Kurtosis:                       7.435   Cond. No.                         9.47\n",
            "==============================================================================\n",
            "\n",
            "Notes:\n",
            "[1] Standard Errors assume that the covariance matrix of the errors is correctly specified.\n"
          ]
        }
      ]
    },
    {
      "cell_type": "markdown",
      "source": [
        "Secara keseluruhan, seluruh variabel numerik dimasukan terlebih dahulu kedalam pemodelan. Didapatkan dari hasil model diatas bahwa pvalue dari F-stat <0.05 sehingg didapat disimpulkan bahwa hasil model berguna. Akan tetapi, kami kurang puas dengan hasil yang didapat dikarenakan nilai Adj_R^Squared yang didapatkan masih cukup kecil (sekitar 0.3). Oleh karena itu, kami akan mencoba menggunakan *stepwise forward selection* untuk mendapatkan variabel yang memberikan kecenderungan pengaruh yang signifikan. "
      ],
      "metadata": {
        "id": "p0doUHzmGWrX"
      }
    },
    {
      "cell_type": "code",
      "source": [
        "##stepwise\n",
        "\n",
        "def forward_selected(data, response):\n",
        "  \"\"\"Linear model designed by forward selection.\n",
        "  https://planspace.org/20150423-forward_selection_with_statsmodels/\n",
        "  Parameters:\n",
        "  -----------\n",
        "  data : pandas DataFrame with all possible predictors and response\n",
        "  response: string, name of response column in data\n",
        "  Returns:\n",
        "  --------\n",
        "  model: an \"optimal\" fitted statsmodels linear model with an intercept selected by forward selection evaluated by adjusted R-squared\n",
        "  \"\"\"\n",
        "  remaining = set(data.columns)\n",
        "  remaining.remove(response)\n",
        "  selected = []\n",
        "  current_score, best_new_score = 0.0, 0.0\n",
        "  while remaining and current_score == best_new_score:\n",
        "    scores_with_candidates = []\n",
        "    for candidate in remaining:\n",
        "      formula = \"{} ~ {} + 1\".format(response,\n",
        "                                    ' + '.join(selected + [candidate]))\n",
        "      score = smf.ols(formula, data).fit().rsquared_adj\n",
        "      scores_with_candidates.append((score, candidate))\n",
        "    scores_with_candidates.sort()\n",
        "    best_new_score, best_candidate = scores_with_candidates.pop()\n",
        "    if current_score < best_new_score:\n",
        "      remaining.remove(best_candidate)\n",
        "      selected.append(best_candidate)\n",
        "      current_score = best_new_score\n",
        "  formula = \"{} ~ {} + 1\".format(response, ' + '.join(selected))\n",
        "  model = smf.ols(formula, data).fit()\n",
        "  return model\n",
        "\n",
        "model = forward_selected(df_2, 'meter_reading')\n",
        "\n",
        "print(model.model.formula)\n",
        "print(model.rsquared_adj)"
      ],
      "metadata": {
        "colab": {
          "base_uri": "https://localhost:8080/"
        },
        "id": "3HUZk_2uEZys",
        "outputId": "bcceb80e-88ea-436b-e986-0961e2fd9a44"
      },
      "execution_count": null,
      "outputs": [
        {
          "output_type": "stream",
          "name": "stdout",
          "text": [
            "meter_reading ~ square_feet + primary_use + dew_temperature + wind_speed + 1\n",
            "0.4137088508621827\n"
          ]
        }
      ]
    },
    {
      "cell_type": "markdown",
      "source": [
        "Berdasarkan hasil dari *stepwise forward selection*, diperoleh model regresi meter_reading = square_feet + primary_use + dew_temperature + wind_speed "
      ],
      "metadata": {
        "id": "yfyKiqfQEdVy"
      }
    },
    {
      "cell_type": "code",
      "source": [
        "print(model.summary())"
      ],
      "metadata": {
        "colab": {
          "base_uri": "https://localhost:8080/"
        },
        "id": "Jv6LWudfEfDk",
        "outputId": "24c2d135-6714-4795-c222-5221b885fa38"
      },
      "execution_count": null,
      "outputs": [
        {
          "output_type": "stream",
          "name": "stdout",
          "text": [
            "                            OLS Regression Results                            \n",
            "==============================================================================\n",
            "Dep. Variable:          meter_reading   R-squared:                       0.423\n",
            "Model:                            OLS   Adj. R-squared:                  0.414\n",
            "Method:                 Least Squares   F-statistic:                     46.79\n",
            "Date:                Fri, 18 Nov 2022   Prob (F-statistic):          2.01e-123\n",
            "Time:                        09:29:09   Log-Likelihood:                 2326.9\n",
            "No. Observations:                1169   AIC:                            -4616.\n",
            "Df Residuals:                    1150   BIC:                            -4520.\n",
            "Df Model:                          18                                         \n",
            "Covariance Type:            nonrobust                                         \n",
            "================================================================================================================\n",
            "                                                   coef    std err          t      P>|t|      [0.025      0.975]\n",
            "----------------------------------------------------------------------------------------------------------------\n",
            "Intercept                                        0.0021      0.004      0.543      0.587      -0.005       0.010\n",
            "primary_use[T.Entertainment/public assembly]    -0.0170      0.003     -5.323      0.000      -0.023      -0.011\n",
            "primary_use[T.Food sales and service]            0.0013      0.015      0.084      0.933      -0.028       0.031\n",
            "primary_use[T.Healthcare]                        0.0138      0.008      1.714      0.087      -0.002       0.030\n",
            "primary_use[T.Lodging/residential]              -0.0084      0.003     -2.510      0.012      -0.015      -0.002\n",
            "primary_use[T.Manufacturing/industrial]         -0.0055      0.013     -0.428      0.669      -0.031       0.020\n",
            "primary_use[T.Office]                           -0.0022      0.003     -0.795      0.427      -0.008       0.003\n",
            "primary_use[T.Other]                            -0.0217      0.007     -2.996      0.003      -0.036      -0.007\n",
            "primary_use[T.Parking]                          -0.0874      0.008    -11.406      0.000      -0.102      -0.072\n",
            "primary_use[T.Public services]                  -0.0190      0.003     -5.687      0.000      -0.026      -0.012\n",
            "primary_use[T.Religious worship]                -0.0199      0.019     -1.027      0.305      -0.058       0.018\n",
            "primary_use[T.Retail]                           -0.0065      0.013     -0.506      0.613      -0.032       0.019\n",
            "primary_use[T.Services]                         -0.0594      0.011     -5.244      0.000      -0.082      -0.037\n",
            "primary_use[T.Technology/science]               -0.0047      0.015     -0.313      0.755      -0.034       0.025\n",
            "primary_use[T.Utility]                           0.0197      0.017      1.177      0.240      -0.013       0.053\n",
            "primary_use[T.Warehouse/storage]                -0.0217      0.010     -2.219      0.027      -0.041      -0.003\n",
            "square_feet                                      0.2640      0.010     26.457      0.000       0.244       0.284\n",
            "dew_temperature                                  0.0242      0.004      6.280      0.000       0.017       0.032\n",
            "wind_speed                                       0.0115      0.003      3.327      0.001       0.005       0.018\n",
            "==============================================================================\n",
            "Omnibus:                      339.314   Durbin-Watson:                   1.642\n",
            "Prob(Omnibus):                  0.000   Jarque-Bera (JB):             1156.343\n",
            "Skew:                           1.398   Prob(JB):                    8.00e-252\n",
            "Kurtosis:                       6.991   Cond. No.                         26.4\n",
            "==============================================================================\n",
            "\n",
            "Notes:\n",
            "[1] Standard Errors assume that the covariance matrix of the errors is correctly specified.\n"
          ]
        }
      ]
    },
    {
      "cell_type": "markdown",
      "source": [
        "* Berdasarkan hasil di atas maka model regresi yang diperoleh adalah sebagai berikut.\n",
        "\n",
        "  meter_reading = (0,2640)square_feet - (0.0170) primary_use[T.Entertainment/public assembly] + (0.0013) primary_use[T.Food sales and services] + (0.0138) primary_use[T.Healthcare] – (0.0084) primary_use[T.Lodging/residential] – (0.0055) primary_use[T.Manufacturing/industrial] – (0.0022) primary_use[T.Office] – (0.0217) primary_use[T.Other] – (0.0874) primary_use[T.Parking] – (0.0190) primary_use[T.Public services] – (0.0199) primary_use[T.Religious worship] – (0.0065) primary_use[T.Retail] – (0.0594) primary_use[T.Services] – (0.0047) primary_use[T.Technology/science] + (0.0197) primary_use[T.Utility] – (0.0217)primary_use[T.Warehouse/storage]  + (0.0242) dew_temperature + (0.0115) wind_speed \n",
        "\n",
        "  dengan model hasil yang signifikan adalah sebagai berikut: \n",
        "   meter_reading = (0,2640)square_feet - (0.0170) primary_use[T.Entertainment/public assembly] +  – (0.0084) primary_use[T.Lodging/residential] – (0.0217) primary_use[T.Other] – (0.0874) primary_use[T.Parking] – (0.0190) primary_use[T.Public services] – (0.0594) primary_use[T.Services] – (0.0217)primary_use[T.Warehouse/storage]  + (0.0242) dew_temperature + (0.0115) wind_speed \n",
        "\n",
        "*   Model berguna walaupun nilai Adj_R^Squared tidak cukup baik, berdasarkan p-value < 0,05 dan nilai Adj_R^Squared sebesar 0,414 artinya 41,4% variansi dari variabel kategori kegiatan(primary_use), luas bangunan(square_fit), kelembaban(dew_temperature), kecepatan angin(wind_speed) dapat menjelaskan  konsumsi energi(meter_reading)\n",
        "\n",
        "*   Namun, selisih dari nilai R^Squared dan Adj_R^Squared cukup kecil, sehingga didapatkan bahwa variabel yang didefinisikan dalam model cukup baik dengan data yang cukup banyak untuk memperhitungkan model yang didapat. Hal ini juga dapat menjadi poin penting bahwa dengan nilai Adj_R^squared yang cukup kecil, hasil yang didapat cukup baik. \n",
        "\n",
        "*   Pada variabel kategori kegiatan (primary_use) terdapat kategori yang signifikan, yaitu Entertaiment/public assembly, lodging/residential, parking, public services, services, warehouse/storage, dan other. \n",
        "\n",
        "* Pada variabel numerik, variabel yang berpengaruh adalah square feet, dev_temperatur, dan wind_speed.\n",
        "\n",
        "\n"
      ],
      "metadata": {
        "id": "lmtxJ4UXHS_i"
      }
    },
    {
      "cell_type": "markdown",
      "source": [
        "## Kesimpulan dan Saran"
      ],
      "metadata": {
        "id": "LLolx0rDIRQ4"
      }
    },
    {
      "cell_type": "markdown",
      "source": [
        "1. Berdasarkan model regresi, variabel kategori kegiatan(primary_use), luas bangunan(square_fit), kelembaban(dew_temperature), kecepatan angin(wind_speed) ada kecenderungan mempengaruhi konsumsi energi (meter_reading)\n",
        "\n",
        "2. Tidak terdapat indikasi multikolinearitas pada data\n",
        "\n",
        "3. Dari data kategorik, didapatkan bahwa keseluruhan arah angin memiliki kecenderungan mengarah ke arah Tenggara, Selatan, dan Barat Daya. Arah angin dengan rata-rata kecepatan terbesar mengarah ke arah diantara Selatan - Barat Daya. Selain itu, arah angin dengan rata-rata kecepatan terendah mengarah kearah diantara Tenggara-Selatan. \n",
        "\n",
        "4. Data pada file dapat ditambahkan variabel lain untuk pemodelan yang lebih baik. Seperti contohhnya data hadap arah gedung, dan lain-lain. \n",
        "\n",
        "5. Terdapat missing value yang cukup besar pada dua variabel, dapat diperhatikan proses pengambilan data agar variabel dapat dipakai dengan baik untuk kedepannya. "
      ],
      "metadata": {
        "id": "O_HZdGkVIViO"
      }
    }
  ]
}